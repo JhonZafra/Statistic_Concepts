{
 "cells": [
  {
   "cell_type": "markdown",
   "metadata": {},
   "source": [
    "# ANÁLISIS DE SERIES DE TIEMPO\n",
    "\n",
    "Conjuntos de valores que están organizados en orden cronológico\n",
    "\n",
    "physiobankATM -> Página para datos clínicos"
   ]
  },
  {
   "cell_type": "code",
   "execution_count": 26,
   "metadata": {},
   "outputs": [],
   "source": [
    "import pandas as pd\n",
    "import numpy as np\n",
    "import matplotlib.pyplot as plt\n",
    "from datetime import datetime, timedelta"
   ]
  },
  {
   "cell_type": "code",
   "execution_count": 27,
   "metadata": {},
   "outputs": [
    {
     "data": {
      "text/html": [
       "<div>\n",
       "<style scoped>\n",
       "    .dataframe tbody tr th:only-of-type {\n",
       "        vertical-align: middle;\n",
       "    }\n",
       "\n",
       "    .dataframe tbody tr th {\n",
       "        vertical-align: top;\n",
       "    }\n",
       "\n",
       "    .dataframe thead th {\n",
       "        text-align: right;\n",
       "    }\n",
       "</style>\n",
       "<table border=\"1\" class=\"dataframe\">\n",
       "  <thead>\n",
       "    <tr style=\"text-align: right;\">\n",
       "      <th></th>\n",
       "      <th>'Elapsed time'</th>\n",
       "      <th>'I'</th>\n",
       "      <th>'II'</th>\n",
       "      <th>'III'</th>\n",
       "      <th>'AVR'</th>\n",
       "      <th>'AVL'</th>\n",
       "      <th>'AVF'</th>\n",
       "      <th>'V1'</th>\n",
       "      <th>'V2'</th>\n",
       "      <th>'V3'</th>\n",
       "      <th>'V4'</th>\n",
       "      <th>'V5'</th>\n",
       "      <th>'V6'</th>\n",
       "    </tr>\n",
       "  </thead>\n",
       "  <tbody>\n",
       "    <tr>\n",
       "      <th>0</th>\n",
       "      <td>'hh:mm:ss.mmm'</td>\n",
       "      <td>'mV'</td>\n",
       "      <td>'mV'</td>\n",
       "      <td>'mV'</td>\n",
       "      <td>'mV'</td>\n",
       "      <td>'mV'</td>\n",
       "      <td>'mV'</td>\n",
       "      <td>'mV'</td>\n",
       "      <td>'mV'</td>\n",
       "      <td>'mV'</td>\n",
       "      <td>'mV'</td>\n",
       "      <td>'mV'</td>\n",
       "      <td>'mV'</td>\n",
       "    </tr>\n",
       "    <tr>\n",
       "      <th>1</th>\n",
       "      <td>'0:00.000'</td>\n",
       "      <td>0.080</td>\n",
       "      <td>0.260</td>\n",
       "      <td>0.180</td>\n",
       "      <td>-0.170</td>\n",
       "      <td>-0.050</td>\n",
       "      <td>0.220</td>\n",
       "      <td>0.010</td>\n",
       "      <td>0.330</td>\n",
       "      <td>0.488</td>\n",
       "      <td>0.505</td>\n",
       "      <td>0.323</td>\n",
       "      <td>0.215</td>\n",
       "    </tr>\n",
       "    <tr>\n",
       "      <th>2</th>\n",
       "      <td>'0:00.001'</td>\n",
       "      <td>0.075</td>\n",
       "      <td>0.255</td>\n",
       "      <td>0.180</td>\n",
       "      <td>-0.165</td>\n",
       "      <td>-0.050</td>\n",
       "      <td>0.218</td>\n",
       "      <td>0.010</td>\n",
       "      <td>0.325</td>\n",
       "      <td>0.483</td>\n",
       "      <td>0.495</td>\n",
       "      <td>0.320</td>\n",
       "      <td>0.215</td>\n",
       "    </tr>\n",
       "    <tr>\n",
       "      <th>3</th>\n",
       "      <td>'0:00.002'</td>\n",
       "      <td>0.070</td>\n",
       "      <td>0.248</td>\n",
       "      <td>0.178</td>\n",
       "      <td>-0.158</td>\n",
       "      <td>-0.053</td>\n",
       "      <td>0.213</td>\n",
       "      <td>0.010</td>\n",
       "      <td>0.315</td>\n",
       "      <td>0.465</td>\n",
       "      <td>0.473</td>\n",
       "      <td>0.308</td>\n",
       "      <td>0.210</td>\n",
       "    </tr>\n",
       "    <tr>\n",
       "      <th>4</th>\n",
       "      <td>'0:00.003'</td>\n",
       "      <td>0.073</td>\n",
       "      <td>0.245</td>\n",
       "      <td>0.175</td>\n",
       "      <td>-0.158</td>\n",
       "      <td>-0.050</td>\n",
       "      <td>0.210</td>\n",
       "      <td>0.008</td>\n",
       "      <td>0.303</td>\n",
       "      <td>0.435</td>\n",
       "      <td>0.448</td>\n",
       "      <td>0.288</td>\n",
       "      <td>0.195</td>\n",
       "    </tr>\n",
       "  </tbody>\n",
       "</table>\n",
       "</div>"
      ],
      "text/plain": [
       "   'Elapsed time'    'I'   'II'  'III'   'AVR'   'AVL'  'AVF'   'V1'   'V2'  \\\n",
       "0  'hh:mm:ss.mmm'   'mV'   'mV'   'mV'    'mV'    'mV'   'mV'   'mV'   'mV'   \n",
       "1      '0:00.000'  0.080  0.260  0.180  -0.170  -0.050  0.220  0.010  0.330   \n",
       "2      '0:00.001'  0.075  0.255  0.180  -0.165  -0.050  0.218  0.010  0.325   \n",
       "3      '0:00.002'  0.070  0.248  0.178  -0.158  -0.053  0.213  0.010  0.315   \n",
       "4      '0:00.003'  0.073  0.245  0.175  -0.158  -0.050  0.210  0.008  0.303   \n",
       "\n",
       "    'V3'   'V4'   'V5'   'V6'  \n",
       "0   'mV'   'mV'   'mV'   'mV'  \n",
       "1  0.488  0.505  0.323  0.215  \n",
       "2  0.483  0.495  0.320  0.215  \n",
       "3  0.465  0.473  0.308  0.210  \n",
       "4  0.435  0.448  0.288  0.195  "
      ]
     },
     "execution_count": 27,
     "metadata": {},
     "output_type": "execute_result"
    }
   ],
   "source": [
    "url ='https://raw.githubusercontent.com/nicoavilan/Bases-de-datos/main/ECG.csv'\n",
    "df = pd.read_csv(url)\n",
    "df.head()"
   ]
  },
  {
   "cell_type": "code",
   "execution_count": 28,
   "metadata": {},
   "outputs": [
    {
     "data": {
      "text/plain": [
       "'Elapsed time'    'hh:mm:ss.mmm'\n",
       "'I'                         'mV'\n",
       "'II'                        'mV'\n",
       "'III'                       'mV'\n",
       "'AVR'                       'mV'\n",
       "'AVL'                       'mV'\n",
       "'AVF'                       'mV'\n",
       "'V1'                        'mV'\n",
       "'V2'                        'mV'\n",
       "'V3'                        'mV'\n",
       "'V4'                        'mV'\n",
       "'V5'                        'mV'\n",
       "'V6'                        'mV'\n",
       "Name: 0, dtype: object"
      ]
     },
     "execution_count": 28,
     "metadata": {},
     "output_type": "execute_result"
    }
   ],
   "source": [
    "df.loc[0]"
   ]
  },
  {
   "cell_type": "code",
   "execution_count": 29,
   "metadata": {},
   "outputs": [],
   "source": [
    "df.drop( labels = 0, inplace = True)"
   ]
  },
  {
   "cell_type": "code",
   "execution_count": 30,
   "metadata": {},
   "outputs": [],
   "source": [
    "df.columns = ['Elapsed time', 'I', 'II', 'III', \n",
    "           'AVR', 'AVL', 'AVF',\n",
    "       'V1', 'V2', 'V3', 'V4', 'V5', 'V6']"
   ]
  },
  {
   "cell_type": "code",
   "execution_count": 31,
   "metadata": {},
   "outputs": [
    {
     "data": {
      "text/html": [
       "<div>\n",
       "<style scoped>\n",
       "    .dataframe tbody tr th:only-of-type {\n",
       "        vertical-align: middle;\n",
       "    }\n",
       "\n",
       "    .dataframe tbody tr th {\n",
       "        vertical-align: top;\n",
       "    }\n",
       "\n",
       "    .dataframe thead th {\n",
       "        text-align: right;\n",
       "    }\n",
       "</style>\n",
       "<table border=\"1\" class=\"dataframe\">\n",
       "  <thead>\n",
       "    <tr style=\"text-align: right;\">\n",
       "      <th></th>\n",
       "      <th>Elapsed time</th>\n",
       "      <th>I</th>\n",
       "      <th>II</th>\n",
       "      <th>III</th>\n",
       "      <th>AVR</th>\n",
       "      <th>AVL</th>\n",
       "      <th>AVF</th>\n",
       "      <th>V1</th>\n",
       "      <th>V2</th>\n",
       "      <th>V3</th>\n",
       "      <th>V4</th>\n",
       "      <th>V5</th>\n",
       "      <th>V6</th>\n",
       "    </tr>\n",
       "  </thead>\n",
       "  <tbody>\n",
       "    <tr>\n",
       "      <th>1</th>\n",
       "      <td>'0:00.000'</td>\n",
       "      <td>0.080</td>\n",
       "      <td>0.260</td>\n",
       "      <td>0.180</td>\n",
       "      <td>-0.170</td>\n",
       "      <td>-0.050</td>\n",
       "      <td>0.220</td>\n",
       "      <td>0.010</td>\n",
       "      <td>0.330</td>\n",
       "      <td>0.488</td>\n",
       "      <td>0.505</td>\n",
       "      <td>0.323</td>\n",
       "      <td>0.215</td>\n",
       "    </tr>\n",
       "    <tr>\n",
       "      <th>2</th>\n",
       "      <td>'0:00.001'</td>\n",
       "      <td>0.075</td>\n",
       "      <td>0.255</td>\n",
       "      <td>0.180</td>\n",
       "      <td>-0.165</td>\n",
       "      <td>-0.050</td>\n",
       "      <td>0.218</td>\n",
       "      <td>0.010</td>\n",
       "      <td>0.325</td>\n",
       "      <td>0.483</td>\n",
       "      <td>0.495</td>\n",
       "      <td>0.320</td>\n",
       "      <td>0.215</td>\n",
       "    </tr>\n",
       "    <tr>\n",
       "      <th>3</th>\n",
       "      <td>'0:00.002'</td>\n",
       "      <td>0.070</td>\n",
       "      <td>0.248</td>\n",
       "      <td>0.178</td>\n",
       "      <td>-0.158</td>\n",
       "      <td>-0.053</td>\n",
       "      <td>0.213</td>\n",
       "      <td>0.010</td>\n",
       "      <td>0.315</td>\n",
       "      <td>0.465</td>\n",
       "      <td>0.473</td>\n",
       "      <td>0.308</td>\n",
       "      <td>0.210</td>\n",
       "    </tr>\n",
       "    <tr>\n",
       "      <th>4</th>\n",
       "      <td>'0:00.003'</td>\n",
       "      <td>0.073</td>\n",
       "      <td>0.245</td>\n",
       "      <td>0.175</td>\n",
       "      <td>-0.158</td>\n",
       "      <td>-0.050</td>\n",
       "      <td>0.210</td>\n",
       "      <td>0.008</td>\n",
       "      <td>0.303</td>\n",
       "      <td>0.435</td>\n",
       "      <td>0.448</td>\n",
       "      <td>0.288</td>\n",
       "      <td>0.195</td>\n",
       "    </tr>\n",
       "    <tr>\n",
       "      <th>5</th>\n",
       "      <td>'0:00.004'</td>\n",
       "      <td>0.075</td>\n",
       "      <td>0.248</td>\n",
       "      <td>0.173</td>\n",
       "      <td>-0.160</td>\n",
       "      <td>-0.048</td>\n",
       "      <td>0.210</td>\n",
       "      <td>0.005</td>\n",
       "      <td>0.298</td>\n",
       "      <td>0.423</td>\n",
       "      <td>0.438</td>\n",
       "      <td>0.278</td>\n",
       "      <td>0.185</td>\n",
       "    </tr>\n",
       "  </tbody>\n",
       "</table>\n",
       "</div>"
      ],
      "text/plain": [
       "  Elapsed time      I     II    III     AVR     AVL    AVF     V1     V2  \\\n",
       "1   '0:00.000'  0.080  0.260  0.180  -0.170  -0.050  0.220  0.010  0.330   \n",
       "2   '0:00.001'  0.075  0.255  0.180  -0.165  -0.050  0.218  0.010  0.325   \n",
       "3   '0:00.002'  0.070  0.248  0.178  -0.158  -0.053  0.213  0.010  0.315   \n",
       "4   '0:00.003'  0.073  0.245  0.175  -0.158  -0.050  0.210  0.008  0.303   \n",
       "5   '0:00.004'  0.075  0.248  0.173  -0.160  -0.048  0.210  0.005  0.298   \n",
       "\n",
       "      V3     V4     V5     V6  \n",
       "1  0.488  0.505  0.323  0.215  \n",
       "2  0.483  0.495  0.320  0.215  \n",
       "3  0.465  0.473  0.308  0.210  \n",
       "4  0.435  0.448  0.288  0.195  \n",
       "5  0.423  0.438  0.278  0.185  "
      ]
     },
     "execution_count": 31,
     "metadata": {},
     "output_type": "execute_result"
    }
   ],
   "source": [
    "df.head()"
   ]
  },
  {
   "cell_type": "code",
   "execution_count": 32,
   "metadata": {},
   "outputs": [
    {
     "name": "stdout",
     "output_type": "stream",
     "text": [
      "0.260\n"
     ]
    }
   ],
   "source": [
    "print(df.loc[1, 'II'])"
   ]
  },
  {
   "cell_type": "code",
   "execution_count": 33,
   "metadata": {},
   "outputs": [
    {
     "data": {
      "text/plain": [
       "str"
      ]
     },
     "execution_count": 33,
     "metadata": {},
     "output_type": "execute_result"
    }
   ],
   "source": [
    "type(df.loc[1, 'II'])"
   ]
  },
  {
   "cell_type": "markdown",
   "metadata": {},
   "source": [
    "Cambio el formato de la columna a tipo float"
   ]
  },
  {
   "cell_type": "code",
   "execution_count": 34,
   "metadata": {},
   "outputs": [],
   "source": [
    "df['II'] = pd.to_numeric(df['II'], downcast = 'float', errors = 'coerce')"
   ]
  },
  {
   "cell_type": "code",
   "execution_count": 35,
   "metadata": {},
   "outputs": [
    {
     "data": {
      "text/plain": [
       "numpy.float32"
      ]
     },
     "execution_count": 35,
     "metadata": {},
     "output_type": "execute_result"
    }
   ],
   "source": [
    "type(df.loc[1, 'II'])"
   ]
  },
  {
   "cell_type": "code",
   "execution_count": 36,
   "metadata": {},
   "outputs": [
    {
     "name": "stdout",
     "output_type": "stream",
     "text": [
      "'0:00.000'\n"
     ]
    }
   ],
   "source": [
    "print(df.loc[1, 'Elapsed time'])"
   ]
  },
  {
   "cell_type": "code",
   "execution_count": 37,
   "metadata": {},
   "outputs": [
    {
     "data": {
      "text/plain": [
       "str"
      ]
     },
     "execution_count": 37,
     "metadata": {},
     "output_type": "execute_result"
    }
   ],
   "source": [
    "type(df.loc[1, 'Elapsed time'])"
   ]
  },
  {
   "cell_type": "code",
   "execution_count": 38,
   "metadata": {},
   "outputs": [
    {
     "data": {
      "text/html": [
       "<div>\n",
       "<style scoped>\n",
       "    .dataframe tbody tr th:only-of-type {\n",
       "        vertical-align: middle;\n",
       "    }\n",
       "\n",
       "    .dataframe tbody tr th {\n",
       "        vertical-align: top;\n",
       "    }\n",
       "\n",
       "    .dataframe thead th {\n",
       "        text-align: right;\n",
       "    }\n",
       "</style>\n",
       "<table border=\"1\" class=\"dataframe\">\n",
       "  <thead>\n",
       "    <tr style=\"text-align: right;\">\n",
       "      <th></th>\n",
       "      <th>Elapsed time</th>\n",
       "      <th>I</th>\n",
       "      <th>II</th>\n",
       "      <th>III</th>\n",
       "      <th>AVR</th>\n",
       "      <th>AVL</th>\n",
       "      <th>AVF</th>\n",
       "      <th>V1</th>\n",
       "      <th>V2</th>\n",
       "      <th>V3</th>\n",
       "      <th>V4</th>\n",
       "      <th>V5</th>\n",
       "      <th>V6</th>\n",
       "    </tr>\n",
       "  </thead>\n",
       "  <tbody>\n",
       "    <tr>\n",
       "      <th>1</th>\n",
       "      <td>0:00.000</td>\n",
       "      <td>0.080</td>\n",
       "      <td>0.260</td>\n",
       "      <td>0.180</td>\n",
       "      <td>-0.170</td>\n",
       "      <td>-0.050</td>\n",
       "      <td>0.220</td>\n",
       "      <td>0.010</td>\n",
       "      <td>0.330</td>\n",
       "      <td>0.488</td>\n",
       "      <td>0.505</td>\n",
       "      <td>0.323</td>\n",
       "      <td>0.215</td>\n",
       "    </tr>\n",
       "    <tr>\n",
       "      <th>2</th>\n",
       "      <td>0:00.001</td>\n",
       "      <td>0.075</td>\n",
       "      <td>0.255</td>\n",
       "      <td>0.180</td>\n",
       "      <td>-0.165</td>\n",
       "      <td>-0.050</td>\n",
       "      <td>0.218</td>\n",
       "      <td>0.010</td>\n",
       "      <td>0.325</td>\n",
       "      <td>0.483</td>\n",
       "      <td>0.495</td>\n",
       "      <td>0.320</td>\n",
       "      <td>0.215</td>\n",
       "    </tr>\n",
       "    <tr>\n",
       "      <th>3</th>\n",
       "      <td>0:00.002</td>\n",
       "      <td>0.070</td>\n",
       "      <td>0.248</td>\n",
       "      <td>0.178</td>\n",
       "      <td>-0.158</td>\n",
       "      <td>-0.053</td>\n",
       "      <td>0.213</td>\n",
       "      <td>0.010</td>\n",
       "      <td>0.315</td>\n",
       "      <td>0.465</td>\n",
       "      <td>0.473</td>\n",
       "      <td>0.308</td>\n",
       "      <td>0.210</td>\n",
       "    </tr>\n",
       "    <tr>\n",
       "      <th>4</th>\n",
       "      <td>0:00.003</td>\n",
       "      <td>0.073</td>\n",
       "      <td>0.245</td>\n",
       "      <td>0.175</td>\n",
       "      <td>-0.158</td>\n",
       "      <td>-0.050</td>\n",
       "      <td>0.210</td>\n",
       "      <td>0.008</td>\n",
       "      <td>0.303</td>\n",
       "      <td>0.435</td>\n",
       "      <td>0.448</td>\n",
       "      <td>0.288</td>\n",
       "      <td>0.195</td>\n",
       "    </tr>\n",
       "    <tr>\n",
       "      <th>5</th>\n",
       "      <td>0:00.004</td>\n",
       "      <td>0.075</td>\n",
       "      <td>0.248</td>\n",
       "      <td>0.173</td>\n",
       "      <td>-0.160</td>\n",
       "      <td>-0.048</td>\n",
       "      <td>0.210</td>\n",
       "      <td>0.005</td>\n",
       "      <td>0.298</td>\n",
       "      <td>0.423</td>\n",
       "      <td>0.438</td>\n",
       "      <td>0.278</td>\n",
       "      <td>0.185</td>\n",
       "    </tr>\n",
       "    <tr>\n",
       "      <th>...</th>\n",
       "      <td>...</td>\n",
       "      <td>...</td>\n",
       "      <td>...</td>\n",
       "      <td>...</td>\n",
       "      <td>...</td>\n",
       "      <td>...</td>\n",
       "      <td>...</td>\n",
       "      <td>...</td>\n",
       "      <td>...</td>\n",
       "      <td>...</td>\n",
       "      <td>...</td>\n",
       "      <td>...</td>\n",
       "      <td>...</td>\n",
       "    </tr>\n",
       "    <tr>\n",
       "      <th>9996</th>\n",
       "      <td>0:09.995</td>\n",
       "      <td>0.008</td>\n",
       "      <td>0.845</td>\n",
       "      <td>0.838</td>\n",
       "      <td>-0.425</td>\n",
       "      <td>-0.415</td>\n",
       "      <td>0.840</td>\n",
       "      <td>-0.685</td>\n",
       "      <td>-1.593</td>\n",
       "      <td>-0.790</td>\n",
       "      <td>2.275</td>\n",
       "      <td>1.863</td>\n",
       "      <td>1.135</td>\n",
       "    </tr>\n",
       "    <tr>\n",
       "      <th>9997</th>\n",
       "      <td>0:09.996</td>\n",
       "      <td>0.023</td>\n",
       "      <td>0.630</td>\n",
       "      <td>0.608</td>\n",
       "      <td>-0.325</td>\n",
       "      <td>-0.293</td>\n",
       "      <td>0.618</td>\n",
       "      <td>-0.685</td>\n",
       "      <td>-1.445</td>\n",
       "      <td>-0.803</td>\n",
       "      <td>2.198</td>\n",
       "      <td>1.748</td>\n",
       "      <td>1.035</td>\n",
       "    </tr>\n",
       "    <tr>\n",
       "      <th>9998</th>\n",
       "      <td>0:09.997</td>\n",
       "      <td>0.048</td>\n",
       "      <td>0.403</td>\n",
       "      <td>0.355</td>\n",
       "      <td>-0.225</td>\n",
       "      <td>-0.153</td>\n",
       "      <td>0.378</td>\n",
       "      <td>-0.713</td>\n",
       "      <td>-1.275</td>\n",
       "      <td>-0.813</td>\n",
       "      <td>2.040</td>\n",
       "      <td>1.568</td>\n",
       "      <td>0.903</td>\n",
       "    </tr>\n",
       "    <tr>\n",
       "      <th>9999</th>\n",
       "      <td>0:09.998</td>\n",
       "      <td>0.058</td>\n",
       "      <td>0.388</td>\n",
       "      <td>0.330</td>\n",
       "      <td>-0.223</td>\n",
       "      <td>-0.135</td>\n",
       "      <td>0.358</td>\n",
       "      <td>-0.723</td>\n",
       "      <td>-1.253</td>\n",
       "      <td>-0.803</td>\n",
       "      <td>2.008</td>\n",
       "      <td>1.538</td>\n",
       "      <td>0.885</td>\n",
       "    </tr>\n",
       "    <tr>\n",
       "      <th>10000</th>\n",
       "      <td>0:09.999</td>\n",
       "      <td>0.045</td>\n",
       "      <td>0.463</td>\n",
       "      <td>0.418</td>\n",
       "      <td>-0.255</td>\n",
       "      <td>-0.185</td>\n",
       "      <td>0.440</td>\n",
       "      <td>-0.708</td>\n",
       "      <td>-1.313</td>\n",
       "      <td>-0.803</td>\n",
       "      <td>2.070</td>\n",
       "      <td>1.605</td>\n",
       "      <td>0.933</td>\n",
       "    </tr>\n",
       "  </tbody>\n",
       "</table>\n",
       "<p>10000 rows × 13 columns</p>\n",
       "</div>"
      ],
      "text/plain": [
       "      Elapsed time      I     II    III     AVR     AVL    AVF      V1  \\\n",
       "1         0:00.000  0.080  0.260  0.180  -0.170  -0.050  0.220   0.010   \n",
       "2         0:00.001  0.075  0.255  0.180  -0.165  -0.050  0.218   0.010   \n",
       "3         0:00.002  0.070  0.248  0.178  -0.158  -0.053  0.213   0.010   \n",
       "4         0:00.003  0.073  0.245  0.175  -0.158  -0.050  0.210   0.008   \n",
       "5         0:00.004  0.075  0.248  0.173  -0.160  -0.048  0.210   0.005   \n",
       "...            ...    ...    ...    ...     ...     ...    ...     ...   \n",
       "9996      0:09.995  0.008  0.845  0.838  -0.425  -0.415  0.840  -0.685   \n",
       "9997      0:09.996  0.023  0.630  0.608  -0.325  -0.293  0.618  -0.685   \n",
       "9998      0:09.997  0.048  0.403  0.355  -0.225  -0.153  0.378  -0.713   \n",
       "9999      0:09.998  0.058  0.388  0.330  -0.223  -0.135  0.358  -0.723   \n",
       "10000     0:09.999  0.045  0.463  0.418  -0.255  -0.185  0.440  -0.708   \n",
       "\n",
       "           V2      V3     V4     V5     V6  \n",
       "1       0.330   0.488  0.505  0.323  0.215  \n",
       "2       0.325   0.483  0.495  0.320  0.215  \n",
       "3       0.315   0.465  0.473  0.308  0.210  \n",
       "4       0.303   0.435  0.448  0.288  0.195  \n",
       "5       0.298   0.423  0.438  0.278  0.185  \n",
       "...       ...     ...    ...    ...    ...  \n",
       "9996   -1.593  -0.790  2.275  1.863  1.135  \n",
       "9997   -1.445  -0.803  2.198  1.748  1.035  \n",
       "9998   -1.275  -0.813  2.040  1.568  0.903  \n",
       "9999   -1.253  -0.803  2.008  1.538  0.885  \n",
       "10000  -1.313  -0.803  2.070  1.605  0.933  \n",
       "\n",
       "[10000 rows x 13 columns]"
      ]
     },
     "execution_count": 38,
     "metadata": {},
     "output_type": "execute_result"
    }
   ],
   "source": [
    "df ['Elapsed time'] = df ['Elapsed time'].str.replace(\"'\", \"\", regex = False)\n",
    "df"
   ]
  },
  {
   "cell_type": "code",
   "execution_count": 39,
   "metadata": {},
   "outputs": [
    {
     "name": "stdout",
     "output_type": "stream",
     "text": [
      "0:00.000\n"
     ]
    }
   ],
   "source": [
    "print(df.loc[1, 'Elapsed time'])"
   ]
  },
  {
   "cell_type": "code",
   "execution_count": 40,
   "metadata": {},
   "outputs": [],
   "source": [
    "df['Elapsed time'] = pd.to_datetime(df['Elapsed time'], format = '%M:%S.%f')#.dt.time"
   ]
  },
  {
   "cell_type": "code",
   "execution_count": 41,
   "metadata": {},
   "outputs": [
    {
     "data": {
      "text/html": [
       "<div>\n",
       "<style scoped>\n",
       "    .dataframe tbody tr th:only-of-type {\n",
       "        vertical-align: middle;\n",
       "    }\n",
       "\n",
       "    .dataframe tbody tr th {\n",
       "        vertical-align: top;\n",
       "    }\n",
       "\n",
       "    .dataframe thead th {\n",
       "        text-align: right;\n",
       "    }\n",
       "</style>\n",
       "<table border=\"1\" class=\"dataframe\">\n",
       "  <thead>\n",
       "    <tr style=\"text-align: right;\">\n",
       "      <th></th>\n",
       "      <th>Elapsed time</th>\n",
       "      <th>I</th>\n",
       "      <th>II</th>\n",
       "      <th>III</th>\n",
       "      <th>AVR</th>\n",
       "      <th>AVL</th>\n",
       "      <th>AVF</th>\n",
       "      <th>V1</th>\n",
       "      <th>V2</th>\n",
       "      <th>V3</th>\n",
       "      <th>V4</th>\n",
       "      <th>V5</th>\n",
       "      <th>V6</th>\n",
       "    </tr>\n",
       "  </thead>\n",
       "  <tbody>\n",
       "    <tr>\n",
       "      <th>1</th>\n",
       "      <td>1900-01-01 00:00:00.000</td>\n",
       "      <td>0.080</td>\n",
       "      <td>0.260</td>\n",
       "      <td>0.180</td>\n",
       "      <td>-0.170</td>\n",
       "      <td>-0.050</td>\n",
       "      <td>0.220</td>\n",
       "      <td>0.010</td>\n",
       "      <td>0.330</td>\n",
       "      <td>0.488</td>\n",
       "      <td>0.505</td>\n",
       "      <td>0.323</td>\n",
       "      <td>0.215</td>\n",
       "    </tr>\n",
       "    <tr>\n",
       "      <th>2</th>\n",
       "      <td>1900-01-01 00:00:00.001</td>\n",
       "      <td>0.075</td>\n",
       "      <td>0.255</td>\n",
       "      <td>0.180</td>\n",
       "      <td>-0.165</td>\n",
       "      <td>-0.050</td>\n",
       "      <td>0.218</td>\n",
       "      <td>0.010</td>\n",
       "      <td>0.325</td>\n",
       "      <td>0.483</td>\n",
       "      <td>0.495</td>\n",
       "      <td>0.320</td>\n",
       "      <td>0.215</td>\n",
       "    </tr>\n",
       "    <tr>\n",
       "      <th>3</th>\n",
       "      <td>1900-01-01 00:00:00.002</td>\n",
       "      <td>0.070</td>\n",
       "      <td>0.248</td>\n",
       "      <td>0.178</td>\n",
       "      <td>-0.158</td>\n",
       "      <td>-0.053</td>\n",
       "      <td>0.213</td>\n",
       "      <td>0.010</td>\n",
       "      <td>0.315</td>\n",
       "      <td>0.465</td>\n",
       "      <td>0.473</td>\n",
       "      <td>0.308</td>\n",
       "      <td>0.210</td>\n",
       "    </tr>\n",
       "    <tr>\n",
       "      <th>4</th>\n",
       "      <td>1900-01-01 00:00:00.003</td>\n",
       "      <td>0.073</td>\n",
       "      <td>0.245</td>\n",
       "      <td>0.175</td>\n",
       "      <td>-0.158</td>\n",
       "      <td>-0.050</td>\n",
       "      <td>0.210</td>\n",
       "      <td>0.008</td>\n",
       "      <td>0.303</td>\n",
       "      <td>0.435</td>\n",
       "      <td>0.448</td>\n",
       "      <td>0.288</td>\n",
       "      <td>0.195</td>\n",
       "    </tr>\n",
       "    <tr>\n",
       "      <th>5</th>\n",
       "      <td>1900-01-01 00:00:00.004</td>\n",
       "      <td>0.075</td>\n",
       "      <td>0.248</td>\n",
       "      <td>0.173</td>\n",
       "      <td>-0.160</td>\n",
       "      <td>-0.048</td>\n",
       "      <td>0.210</td>\n",
       "      <td>0.005</td>\n",
       "      <td>0.298</td>\n",
       "      <td>0.423</td>\n",
       "      <td>0.438</td>\n",
       "      <td>0.278</td>\n",
       "      <td>0.185</td>\n",
       "    </tr>\n",
       "    <tr>\n",
       "      <th>...</th>\n",
       "      <td>...</td>\n",
       "      <td>...</td>\n",
       "      <td>...</td>\n",
       "      <td>...</td>\n",
       "      <td>...</td>\n",
       "      <td>...</td>\n",
       "      <td>...</td>\n",
       "      <td>...</td>\n",
       "      <td>...</td>\n",
       "      <td>...</td>\n",
       "      <td>...</td>\n",
       "      <td>...</td>\n",
       "      <td>...</td>\n",
       "    </tr>\n",
       "    <tr>\n",
       "      <th>9996</th>\n",
       "      <td>1900-01-01 00:00:09.995</td>\n",
       "      <td>0.008</td>\n",
       "      <td>0.845</td>\n",
       "      <td>0.838</td>\n",
       "      <td>-0.425</td>\n",
       "      <td>-0.415</td>\n",
       "      <td>0.840</td>\n",
       "      <td>-0.685</td>\n",
       "      <td>-1.593</td>\n",
       "      <td>-0.790</td>\n",
       "      <td>2.275</td>\n",
       "      <td>1.863</td>\n",
       "      <td>1.135</td>\n",
       "    </tr>\n",
       "    <tr>\n",
       "      <th>9997</th>\n",
       "      <td>1900-01-01 00:00:09.996</td>\n",
       "      <td>0.023</td>\n",
       "      <td>0.630</td>\n",
       "      <td>0.608</td>\n",
       "      <td>-0.325</td>\n",
       "      <td>-0.293</td>\n",
       "      <td>0.618</td>\n",
       "      <td>-0.685</td>\n",
       "      <td>-1.445</td>\n",
       "      <td>-0.803</td>\n",
       "      <td>2.198</td>\n",
       "      <td>1.748</td>\n",
       "      <td>1.035</td>\n",
       "    </tr>\n",
       "    <tr>\n",
       "      <th>9998</th>\n",
       "      <td>1900-01-01 00:00:09.997</td>\n",
       "      <td>0.048</td>\n",
       "      <td>0.403</td>\n",
       "      <td>0.355</td>\n",
       "      <td>-0.225</td>\n",
       "      <td>-0.153</td>\n",
       "      <td>0.378</td>\n",
       "      <td>-0.713</td>\n",
       "      <td>-1.275</td>\n",
       "      <td>-0.813</td>\n",
       "      <td>2.040</td>\n",
       "      <td>1.568</td>\n",
       "      <td>0.903</td>\n",
       "    </tr>\n",
       "    <tr>\n",
       "      <th>9999</th>\n",
       "      <td>1900-01-01 00:00:09.998</td>\n",
       "      <td>0.058</td>\n",
       "      <td>0.388</td>\n",
       "      <td>0.330</td>\n",
       "      <td>-0.223</td>\n",
       "      <td>-0.135</td>\n",
       "      <td>0.358</td>\n",
       "      <td>-0.723</td>\n",
       "      <td>-1.253</td>\n",
       "      <td>-0.803</td>\n",
       "      <td>2.008</td>\n",
       "      <td>1.538</td>\n",
       "      <td>0.885</td>\n",
       "    </tr>\n",
       "    <tr>\n",
       "      <th>10000</th>\n",
       "      <td>1900-01-01 00:00:09.999</td>\n",
       "      <td>0.045</td>\n",
       "      <td>0.463</td>\n",
       "      <td>0.418</td>\n",
       "      <td>-0.255</td>\n",
       "      <td>-0.185</td>\n",
       "      <td>0.440</td>\n",
       "      <td>-0.708</td>\n",
       "      <td>-1.313</td>\n",
       "      <td>-0.803</td>\n",
       "      <td>2.070</td>\n",
       "      <td>1.605</td>\n",
       "      <td>0.933</td>\n",
       "    </tr>\n",
       "  </tbody>\n",
       "</table>\n",
       "<p>10000 rows × 13 columns</p>\n",
       "</div>"
      ],
      "text/plain": [
       "                 Elapsed time      I     II    III     AVR     AVL    AVF  \\\n",
       "1     1900-01-01 00:00:00.000  0.080  0.260  0.180  -0.170  -0.050  0.220   \n",
       "2     1900-01-01 00:00:00.001  0.075  0.255  0.180  -0.165  -0.050  0.218   \n",
       "3     1900-01-01 00:00:00.002  0.070  0.248  0.178  -0.158  -0.053  0.213   \n",
       "4     1900-01-01 00:00:00.003  0.073  0.245  0.175  -0.158  -0.050  0.210   \n",
       "5     1900-01-01 00:00:00.004  0.075  0.248  0.173  -0.160  -0.048  0.210   \n",
       "...                       ...    ...    ...    ...     ...     ...    ...   \n",
       "9996  1900-01-01 00:00:09.995  0.008  0.845  0.838  -0.425  -0.415  0.840   \n",
       "9997  1900-01-01 00:00:09.996  0.023  0.630  0.608  -0.325  -0.293  0.618   \n",
       "9998  1900-01-01 00:00:09.997  0.048  0.403  0.355  -0.225  -0.153  0.378   \n",
       "9999  1900-01-01 00:00:09.998  0.058  0.388  0.330  -0.223  -0.135  0.358   \n",
       "10000 1900-01-01 00:00:09.999  0.045  0.463  0.418  -0.255  -0.185  0.440   \n",
       "\n",
       "           V1      V2      V3     V4     V5     V6  \n",
       "1       0.010   0.330   0.488  0.505  0.323  0.215  \n",
       "2       0.010   0.325   0.483  0.495  0.320  0.215  \n",
       "3       0.010   0.315   0.465  0.473  0.308  0.210  \n",
       "4       0.008   0.303   0.435  0.448  0.288  0.195  \n",
       "5       0.005   0.298   0.423  0.438  0.278  0.185  \n",
       "...       ...     ...     ...    ...    ...    ...  \n",
       "9996   -0.685  -1.593  -0.790  2.275  1.863  1.135  \n",
       "9997   -0.685  -1.445  -0.803  2.198  1.748  1.035  \n",
       "9998   -0.713  -1.275  -0.813  2.040  1.568  0.903  \n",
       "9999   -0.723  -1.253  -0.803  2.008  1.538  0.885  \n",
       "10000  -0.708  -1.313  -0.803  2.070  1.605  0.933  \n",
       "\n",
       "[10000 rows x 13 columns]"
      ]
     },
     "execution_count": 41,
     "metadata": {},
     "output_type": "execute_result"
    }
   ],
   "source": [
    "df"
   ]
  },
  {
   "cell_type": "code",
   "execution_count": 42,
   "metadata": {},
   "outputs": [
    {
     "data": {
      "text/plain": [
       "pandas._libs.tslibs.timestamps.Timestamp"
      ]
     },
     "execution_count": 42,
     "metadata": {},
     "output_type": "execute_result"
    }
   ],
   "source": [
    "type(df.loc[1, 'Elapsed time'])"
   ]
  },
  {
   "cell_type": "code",
   "execution_count": 44,
   "metadata": {},
   "outputs": [
    {
     "data": {
      "image/png": "[encoded data removed]",
      "text/plain": [
       "<Figure size 900x300 with 1 Axes>"
      ]
     },
     "metadata": {},
     "output_type": "display_data"
    }
   ],
   "source": [
    "plt.figure( figsize = (9,3))\n",
    "plt.plot(df['Elapsed time'], df.II)\n",
    "plt.xticks(size = 7)\n",
    "plt.xlabel('Tiempo[ms]')\n",
    "plt.ylabel('Voltaje [mV]')\n",
    "plt.title('Electrocardiograma')\n",
    "plt.show()"
   ]
  },
  {
   "cell_type": "markdown",
   "metadata": {},
   "source": [
    "¿Cómo hacer una animación?"
   ]
  },
  {
   "cell_type": "code",
   "execution_count": 45,
   "metadata": {},
   "outputs": [],
   "source": [
    "import matplotlib.animation as animation\n",
    "from IPython.display import HTML"
   ]
  },
  {
   "cell_type": "code",
   "execution_count": 46,
   "metadata": {},
   "outputs": [
    {
     "data": {
      "text/plain": [
       "Index(['Elapsed time', 'I', 'II', 'III', 'AVR', 'AVL', 'AVF', 'V1', 'V2', 'V3',\n",
       "       'V4', 'V5', 'V6'],\n",
       "      dtype='object')"
      ]
     },
     "execution_count": 46,
     "metadata": {},
     "output_type": "execute_result"
    }
   ],
   "source": [
    "df.columns"
   ]
  },
  {
   "cell_type": "code",
   "execution_count": 47,
   "metadata": {},
   "outputs": [],
   "source": [
    "x = df['Elapsed time'].values\n",
    "y = df.II.values\n",
    "N = len(df)"
   ]
  },
  {
   "cell_type": "code",
   "execution_count": 48,
   "metadata": {},
   "outputs": [
    {
     "data": {
      "image/png": "[encoded data removed]",
      "text/plain": [
       "<Figure size 640x480 with 1 Axes>"
      ]
     },
     "metadata": {},
     "output_type": "display_data"
    }
   ],
   "source": [
    "plt.plot(x,y)\n",
    "plt.show()\n"
   ]
  },
  {
   "cell_type": "code",
   "execution_count": 49,
   "metadata": {},
   "outputs": [
    {
     "data": {
      "image/png": "[encoded data removed]",
      "text/plain": [
       "<Figure size 900x300 with 1 Axes>"
      ]
     },
     "metadata": {},
     "output_type": "display_data"
    }
   ],
   "source": [
    "fig = plt.figure( figsize = (9,3) )\n",
    "ax = fig.gca()\n",
    "\n",
    "def actualizar(i):\n",
    "    ax.clear()\n",
    "\n",
    "    ax.plot(x[:i], y[:i])"
   ]
  },
  {
   "cell_type": "code",
   "execution_count": 50,
   "metadata": {},
   "outputs": [
    {
     "ename": "RuntimeError",
     "evalue": "Requested MovieWriter (ffmpeg) not available",
     "output_type": "error",
     "traceback": [
      "\u001b[1;31m---------------------------------------------------------------------------\u001b[0m",
      "\u001b[1;31mRuntimeError\u001b[0m                              Traceback (most recent call last)",
      "Cell \u001b[1;32mIn[50], line 3\u001b[0m\n\u001b[0;32m      1\u001b[0m anim \u001b[39m=\u001b[39m animation\u001b[39m.\u001b[39mFuncAnimation(fig, actualizar,\n\u001b[0;32m      2\u001b[0m                                \u001b[39mrange\u001b[39m(\u001b[39m0\u001b[39m, N, \u001b[39m10\u001b[39m), interval \u001b[39m=\u001b[39m \u001b[39m30\u001b[39m)\n\u001b[1;32m----> 3\u001b[0m HTML(anim\u001b[39m.\u001b[39;49mto_html5_video())\n",
      "File \u001b[1;32m~\\AppData\\Local\\Packages\\PythonSoftwareFoundation.Python.3.11_qbz5n2kfra8p0\\LocalCache\\local-packages\\Python311\\site-packages\\matplotlib\\animation.py:1284\u001b[0m, in \u001b[0;36mAnimation.to_html5_video\u001b[1;34m(self, embed_limit)\u001b[0m\n\u001b[0;32m   1281\u001b[0m path \u001b[39m=\u001b[39m Path(tmpdir, \u001b[39m\"\u001b[39m\u001b[39mtemp.m4v\u001b[39m\u001b[39m\"\u001b[39m)\n\u001b[0;32m   1282\u001b[0m \u001b[39m# We create a writer manually so that we can get the\u001b[39;00m\n\u001b[0;32m   1283\u001b[0m \u001b[39m# appropriate size for the tag\u001b[39;00m\n\u001b[1;32m-> 1284\u001b[0m Writer \u001b[39m=\u001b[39m writers[mpl\u001b[39m.\u001b[39;49mrcParams[\u001b[39m'\u001b[39;49m\u001b[39manimation.writer\u001b[39;49m\u001b[39m'\u001b[39;49m]]\n\u001b[0;32m   1285\u001b[0m writer \u001b[39m=\u001b[39m Writer(codec\u001b[39m=\u001b[39m\u001b[39m'\u001b[39m\u001b[39mh264\u001b[39m\u001b[39m'\u001b[39m,\n\u001b[0;32m   1286\u001b[0m                 bitrate\u001b[39m=\u001b[39mmpl\u001b[39m.\u001b[39mrcParams[\u001b[39m'\u001b[39m\u001b[39manimation.bitrate\u001b[39m\u001b[39m'\u001b[39m],\n\u001b[0;32m   1287\u001b[0m                 fps\u001b[39m=\u001b[39m\u001b[39m1000.\u001b[39m \u001b[39m/\u001b[39m \u001b[39mself\u001b[39m\u001b[39m.\u001b[39m_interval)\n\u001b[0;32m   1288\u001b[0m \u001b[39mself\u001b[39m\u001b[39m.\u001b[39msave(\u001b[39mstr\u001b[39m(path), writer\u001b[39m=\u001b[39mwriter)\n",
      "File \u001b[1;32m~\\AppData\\Local\\Packages\\PythonSoftwareFoundation.Python.3.11_qbz5n2kfra8p0\\LocalCache\\local-packages\\Python311\\site-packages\\matplotlib\\animation.py:148\u001b[0m, in \u001b[0;36mMovieWriterRegistry.__getitem__\u001b[1;34m(self, name)\u001b[0m\n\u001b[0;32m    146\u001b[0m \u001b[39mif\u001b[39;00m \u001b[39mself\u001b[39m\u001b[39m.\u001b[39mis_available(name):\n\u001b[0;32m    147\u001b[0m     \u001b[39mreturn\u001b[39;00m \u001b[39mself\u001b[39m\u001b[39m.\u001b[39m_registered[name]\n\u001b[1;32m--> 148\u001b[0m \u001b[39mraise\u001b[39;00m \u001b[39mRuntimeError\u001b[39;00m(\u001b[39mf\u001b[39m\u001b[39m\"\u001b[39m\u001b[39mRequested MovieWriter (\u001b[39m\u001b[39m{\u001b[39;00mname\u001b[39m}\u001b[39;00m\u001b[39m) not available\u001b[39m\u001b[39m\"\u001b[39m)\n",
      "\u001b[1;31mRuntimeError\u001b[0m: Requested MovieWriter (ffmpeg) not available"
     ]
    }
   ],
   "source": [
    "anim = animation.FuncAnimation(fig, actualizar,\n",
    "                               range(0, N, 10), interval = 30)\n",
    "HTML(anim.to_html5_video())"
   ]
  },
  {
   "cell_type": "code",
   "execution_count": null,
   "metadata": {},
   "outputs": [],
   "source": []
  }
 ],
 "metadata": {
  "kernelspec": {
   "display_name": "Python 3",
   "language": "python",
   "name": "python3"
  },
  "language_info": {
   "codemirror_mode": {
    "name": "ipython",
    "version": 3
   },
   "file_extension": ".py",
   "mimetype": "text/x-python",
   "name": "python",
   "nbconvert_exporter": "python",
   "pygments_lexer": "ipython3",
   "version": "3.11.5"
  },
  "orig_nbformat": 4
 },
 "nbformat": 4,
 "nbformat_minor": 2
}
