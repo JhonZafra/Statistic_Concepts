{
 "cells": [
  {
   "cell_type": "markdown",
   "metadata": {},
   "source": [
    "# Prueba t (T-test)\n",
    "\n",
    "Clase 25/07/2023\n",
    "\n",
    "La prueba t es una técnica estadística utilizada para compara las medias de dos grupos y determinar su existen diferencias significativas entre ellas\n",
    "\n",
    "- ### Prueba t de muestras independientes\n",
    "Se comparan las medias de dos grupos independientes como el rendimiento de un grupo de estudiantes que hayan recibido un entrenamiento y otro que no lo recibió\n",
    "\n",
    "- ### Prueba t de muestras relacionadas o emparejadas\n",
    "Se utiliza cuando se comparan las medias de dos grupos que estàn emparejados o relcionados. Antes y después de un tratamiento en el mismo grupo de individuos\n",
    "\n",
    "Cuando utilizamos la función **stats.ttest_1samp()** de la biblioteca scipy.stats en Python para realizar una prueba t de una muestra, el resultado incluirá una estadística **(statistic)** y un valor p **(p-value)**\n",
    "\n",
    "### *Statistic*\n",
    "La estadística **(statistic)** es el valor t calculado durante la prueba. **Cuando mayor sea el valor absoluto de la estadística, mayor será la diferencia observada entre la muestra y el valor esperado**\n",
    "\n",
    "\n",
    "### *P-value*\n",
    "El valor p(p-value) es la **probabilidad de obtener una estadística igual que la observada, bajo la hipótesis nula de que la media de la muestra es igual al valor esperado** \n",
    "Un valor p bajo (<0.05) sugiere que hay evidencia suficiente para rechazar la hipótesis nula y considerar que la diferencia es estadísticamente significativa.\n",
    "\n",
    "### *df (Degrees of Freedom)*\n",
    "Número de muestras menos uno"
   ]
  },
  {
   "cell_type": "markdown",
   "metadata": {},
   "source": [
    "# Prueba de Kolmogorov-Smirnov\n",
    "\n",
    "La prueba de Kolmogorov-Smirnov es una prueba estadística no paramétrica que compara la función de distribución acumulada empírica con una distribución teórica para evaluar similitud o adecuación de datos. Se usa *p-valor* para estimar la similitud de las dos distribuciones.\n",
    "\n",
    "Una **prueba estadística no paramétrica** es un método que no requiere supuestos sobre la distribución de los datos y se utiliza cuando los datos no siguen una distribución específica."
   ]
  },
  {
   "cell_type": "code",
   "execution_count": 1,
   "metadata": {},
   "outputs": [],
   "source": [
    "from scipy import stats"
   ]
  },
  {
   "cell_type": "code",
   "execution_count": 2,
   "metadata": {},
   "outputs": [
    {
     "data": {
      "text/plain": [
       "[220.1, 220.5, 221.2, 221.8, 222.5, 223.1, 223.7]"
      ]
     },
     "execution_count": 2,
     "metadata": {},
     "output_type": "execute_result"
    }
   ],
   "source": [
    "muestra = [220.1, 220.5, 221.2, 221.8, 222.5, 223.1, 223.7]\n",
    "muestra"
   ]
  },
  {
   "cell_type": "code",
   "execution_count": 3,
   "metadata": {},
   "outputs": [
    {
     "data": {
      "text/plain": [
       "TtestResult(statistic=-6.249990669147964, pvalue=0.0007777459267474468, df=6)"
      ]
     },
     "execution_count": 3,
     "metadata": {},
     "output_type": "execute_result"
    }
   ],
   "source": [
    "# T-test\n",
    "result = stats.ttest_1samp(muestra, 225)\n",
    "result"
   ]
  },
  {
   "cell_type": "code",
   "execution_count": 4,
   "metadata": {},
   "outputs": [
    {
     "name": "stdout",
     "output_type": "stream",
     "text": [
      "p-valor0.0007777459267474468\n"
     ]
    }
   ],
   "source": [
    "print(f'p-valor{result[1]}')"
   ]
  },
  {
   "cell_type": "code",
   "execution_count": 5,
   "metadata": {},
   "outputs": [
    {
     "data": {
      "text/plain": [
       "[225.01, 225.02, 225.03, 224.97, 224.95, 224.999, 225.01]"
      ]
     },
     "execution_count": 5,
     "metadata": {},
     "output_type": "execute_result"
    }
   ],
   "source": [
    "muestra2 = [225.01, 225.02, 225.03, 224.97, 224.95, 224.999, 225.01]\n",
    "muestra2"
   ]
  },
  {
   "cell_type": "code",
   "execution_count": 6,
   "metadata": {},
   "outputs": [
    {
     "data": {
      "text/plain": [
       "TtestResult(statistic=-0.1457283897780442, pvalue=0.8889083794397654, df=6)"
      ]
     },
     "execution_count": 6,
     "metadata": {},
     "output_type": "execute_result"
    }
   ],
   "source": [
    "result2 = stats.ttest_1samp(muestra2, 225)\n",
    "result2"
   ]
  },
  {
   "cell_type": "code",
   "execution_count": null,
   "metadata": {},
   "outputs": [],
   "source": []
  }
 ],
 "metadata": {
  "kernelspec": {
   "display_name": "Python 3",
   "language": "python",
   "name": "python3"
  },
  "language_info": {
   "codemirror_mode": {
    "name": "ipython",
    "version": 3
   },
   "file_extension": ".py",
   "mimetype": "text/x-python",
   "name": "python",
   "nbconvert_exporter": "python",
   "pygments_lexer": "ipython3",
   "version": "3.11.4"
  },
  "orig_nbformat": 4
 },
 "nbformat": 4,
 "nbformat_minor": 2
}
