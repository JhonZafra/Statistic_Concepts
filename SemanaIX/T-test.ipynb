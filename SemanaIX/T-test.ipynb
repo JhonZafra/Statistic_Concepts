{
 "cells": [
  {
   "cell_type": "markdown",
   "metadata": {},
   "source": [
    "# Prueba t (T-test)\n",
    "\n",
    "Clase 25/07/2023\n",
    "\n",
    "La prueba t es una técnica estadística utilizada para compara las medias de dos grupos y determinar su existen diferencias significativas entre ellas\n",
    "\n",
    "- ### Prueba t de muestras independientes\n",
    "Se comparan las medias de dos grupos independientes como el rendimiento de un grupo de estudiantes que hayan recibido un entrenamiento y otro que no lo recibió\n",
    "\n",
    "- ### Prueba t de muestras relacionadas o emparejadas\n",
    "Se utiliza cuando se comparan las medias de dos grupos que estàn emparejados o relcionados. Antes y después de un tratamiento en el mismo grupo de individuos\n",
    "\n",
    "Cuando utilizamos la función **stats.ttest_1samp()** de la biblioteca scipy.stats en Python para realizar una prueba t de una muestra, el resultado incluirá una estadística **(statistic)** y un valor p **(p-value)**\n",
    "\n",
    "### *Statistic*\n",
    "La estadística **(statistic)** es el valor t calculado durante la prueba. **Cuando mayor sea el valor absoluto de la estadística, mayor será la diferencia observada entre la muestra y el valor esperado**\n",
    "\n",
    "\n",
    "### *P-value*\n",
    "El valor p(p-value) es la **probabilidad de obtener una estadística igual que la observada, bajo la hipótesis nula de que la media de la muestra es igual al valor esperado** \n",
    "Un valor p bajo (<0.05) sugiere que hay evidencia suficiente para rechazar la hipótesis nula y considerar que la diferencia es estadísticamente significativa.\n",
    "\n",
    "### *df (Degrees of Freedom)*\n",
    "Número de muestras menos uno"
   ]
  },
  {
   "cell_type": "markdown",
   "metadata": {},
   "source": [
    "# Prueba de Kolmogorov-Smirnov\n",
    "\n",
    "La prueba de Kolmogorov-Smirnov es una prueba estadística no paramétrica que compara la función de distribución acumulada empírica con una distribución teórica para evaluar similitud o adecuación de datos. Se usa *p-valor* para estimar la similitud de las dos distribuciones.\n",
    "\n",
    "Una **prueba estadística no paramétrica** es un método que no requiere supuestos sobre la distribución de los datos y se utiliza cuando los datos no siguen una distribución específica."
   ]
  },
  {
   "cell_type": "code",
   "execution_count": 1,
   "metadata": {},
   "outputs": [],
   "source": [
    "from scipy import stats"
   ]
  },
  {
   "cell_type": "code",
   "execution_count": 2,
   "metadata": {},
   "outputs": [
    {
     "data": {
      "text/plain": [
       "[220.1, 220.5, 221.2, 221.8, 222.5, 223.1, 223.7]"
      ]
     },
     "execution_count": 2,
     "metadata": {},
     "output_type": "execute_result"
    }
   ],
   "source": [
    "muestra = [220.1, 220.5, 221.2, 221.8, 222.5, 223.1, 223.7]\n",
    "muestra"
   ]
  },
  {
   "cell_type": "code",
   "execution_count": 3,
   "metadata": {},
   "outputs": [
    {
     "data": {
      "text/plain": [
       "TtestResult(statistic=-6.249990669147964, pvalue=0.0007777459267474468, df=6)"
      ]
     },
     "execution_count": 3,
     "metadata": {},
     "output_type": "execute_result"
    }
   ],
   "source": [
    "# T-test\n",
    "result = stats.ttest_1samp(muestra, 225)\n",
    "result"
   ]
  },
  {
   "cell_type": "code",
   "execution_count": 4,
   "metadata": {},
   "outputs": [
    {
     "name": "stdout",
     "output_type": "stream",
     "text": [
      "p-valor0.0007777459267474468\n"
     ]
    }
   ],
   "source": [
    "print(f'p-valor{result[1]}')"
   ]
  },
  {
   "cell_type": "code",
   "execution_count": 5,
   "metadata": {},
   "outputs": [
    {
     "data": {
      "text/plain": [
       "[225.01, 225.02, 225.03, 224.97, 224.95, 224.999, 225.01]"
      ]
     },
     "execution_count": 5,
     "metadata": {},
     "output_type": "execute_result"
    }
   ],
   "source": [
    "muestra2 = [225.01, 225.02, 225.03, 224.97, 224.95, 224.999, 225.01]\n",
    "muestra2"
   ]
  },
  {
   "cell_type": "code",
   "execution_count": 6,
   "metadata": {},
   "outputs": [
    {
     "data": {
      "text/plain": [
       "TtestResult(statistic=-0.1457283897780442, pvalue=0.8889083794397654, df=6)"
      ]
     },
     "execution_count": 6,
     "metadata": {},
     "output_type": "execute_result"
    }
   ],
   "source": [
    "result2 = stats.ttest_1samp(muestra2, 225)\n",
    "result2"
   ]
  },
  {
   "cell_type": "markdown",
   "metadata": {},
   "source": [
    "#### Prueba de Kolmogorov-Smirnov"
   ]
  },
  {
   "cell_type": "code",
   "execution_count": 13,
   "metadata": {},
   "outputs": [],
   "source": [
    "import numpy as np\n",
    "from scipy.stats import kstest\n",
    "import matplotlib.pyplot as plt"
   ]
  },
  {
   "cell_type": "code",
   "execution_count": 10,
   "metadata": {},
   "outputs": [],
   "source": [
    "N = 10**6\n",
    "np.random.seed(12)# Se debe tener semillas distintas para los set de datos dado que de ser iguales los datos serán iguales y la prueba dará 1\n",
    "datos1 = np.random.normal(1, 1, N) \n",
    "np.random.seed(42)\n",
    "datos2 = np.random.normal(1, 1, N)"
   ]
  },
  {
   "cell_type": "code",
   "execution_count": 11,
   "metadata": {},
   "outputs": [
    {
     "data": {
      "text/plain": [
       "0.62"
      ]
     },
     "execution_count": 11,
     "metadata": {},
     "output_type": "execute_result"
    }
   ],
   "source": [
    "kstest(datos1, datos2).pvalue.round(3)"
   ]
  },
  {
   "cell_type": "code",
   "execution_count": 14,
   "metadata": {},
   "outputs": [
    {
     "data": {
      "image/png": "[encoded data removed]",
      "text/plain": [
       "<Figure size 500x400 with 1 Axes>"
      ]
     },
     "metadata": {},
     "output_type": "display_data"
    }
   ],
   "source": [
    "plt.figure(figsize= (5,4))\n",
    "plt.hist(datos1, alpha= 0.5, bins=100)\n",
    "plt.hist(datos2, alpha= 0.5, bins=100)\n",
    "plt.text(3, 30000, f'p-value={kstest(datos1, datos2).pvalue.round(3)}')\n",
    "plt.show()"
   ]
  },
  {
   "cell_type": "markdown",
   "metadata": {},
   "source": [
    "Experimento de lanzamiento de monedas"
   ]
  },
  {
   "cell_type": "code",
   "execution_count": 15,
   "metadata": {},
   "outputs": [],
   "source": [
    "p = 0.5 # Probabilidad de cara\n",
    "\n",
    "num_lanzamientos = 30\n",
    "iteraciones = 10**5\n",
    "\n",
    "# Lista para almacenar resultados de lanzamientos\n",
    "resultados = []\n",
    "\n",
    "for _ in range(iteraciones):\n",
    "    # Simular lanzamientos y contar caras\n",
    "    c = 0 # Valor inicial de caras\n",
    "    for _ in range(num_lanzamientos):\n",
    "        if np.random.rand() < p:\n",
    "            c += 1\n",
    "    resultados.append(c)"
   ]
  },
  {
   "cell_type": "code",
   "execution_count": 16,
   "metadata": {},
   "outputs": [],
   "source": [
    "z = np.random.binomial(n = 30, p = 0.5, size= iteraciones)"
   ]
  },
  {
   "cell_type": "code",
   "execution_count": 17,
   "metadata": {},
   "outputs": [
    {
     "data": {
      "text/plain": [
       "0.989"
      ]
     },
     "execution_count": 17,
     "metadata": {},
     "output_type": "execute_result"
    }
   ],
   "source": [
    "# Verificación cuantitativa\n",
    "pvalor = kstest(resultados, z).pvalue.round(3)\n",
    "pvalor"
   ]
  },
  {
   "cell_type": "code",
   "execution_count": 18,
   "metadata": {},
   "outputs": [
    {
     "data": {
      "image/png": "[encoded data removed]",
      "text/plain": [
       "<Figure size 500x400 with 1 Axes>"
      ]
     },
     "metadata": {},
     "output_type": "display_data"
    }
   ],
   "source": [
    "plt.figure(figsize= (5,4))\n",
    "cuentas, barras, ejes = plt.hist(resultados, edgecolor= 'white' ,bins= 31, range=(0,31),\n",
    "                                 label = 'Experimento\\nmonedas', alpha=0.5)\n",
    "plt.hist(z, edgecolor= 'white' ,bins= 31, range=(0,31),\n",
    "                                 label = 'Distribución\\nbinomial', alpha=0.5)\n",
    "plt.xlim(0, 35)\n",
    "plt.text(23, 10000, f'p-valor = {pvalor}')\n",
    "plt.legend(frameon = False) # frameon quitar o poner el cuadro de la leyenda\n",
    "plt.show()"
   ]
  },
  {
   "cell_type": "markdown",
   "metadata": {},
   "source": [
    "Se confirma cualitativa y cuantitativamente que la distribución de frecuencias del número de caras que se obtienen en 30 lanzamientos es similar a una variable aleatoria con distribución de Binomial."
   ]
  },
  {
   "cell_type": "markdown",
   "metadata": {},
   "source": []
  }
 ],
 "metadata": {
  "kernelspec": {
   "display_name": "Python 3",
   "language": "python",
   "name": "python3"
  },
  "language_info": {
   "codemirror_mode": {
    "name": "ipython",
    "version": 3
   },
   "file_extension": ".py",
   "mimetype": "text/x-python",
   "name": "python",
   "nbconvert_exporter": "python",
   "pygments_lexer": "ipython3",
   "version": "3.11.4"
  },
  "orig_nbformat": 4
 },
 "nbformat": 4,
 "nbformat_minor": 2
}
