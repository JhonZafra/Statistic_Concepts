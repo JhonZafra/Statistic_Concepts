{
 "cells": [
  {
   "cell_type": "markdown",
   "metadata": {},
   "source": [
    "# HIPÓTESIS ESTADÍSTICA\n",
    "\n",
    "Una hipótesis estadística es una **afirmación acerca de una población** que se formula para ser probada o refutada mediante **evidencia estadística** en un estudio o análisis.\n",
    "\n",
    "### Hipótesis Nula (H0)\n",
    "Es la afirmación inicial o la suposición que se considera como cierta o válida antes de realizar el análisis estadístico. Por otro lado, **la hipótesis alternativa (H1) o (HA)** es una afirmación que se plantea como una posible explicación o resultado alternativo \n",
    "\n",
    "Ejemplo:\n",
    "Los estudiantes de la universidad tienen una estatura promedio de 170cm\n",
    "\n",
    "- Población: estudiantes de la universidad\n",
    "- Hipótesis nula $H_0: \\mu = 170cm$\n",
    "- Hipótesis alternativa $H_1: \\mu \\neq 170cm$\n",
    "\n",
    "### Asimetría de un conjunto de datos (skew)\n",
    "- Asimetría Negativa : cola corta a la izquierda\n",
    "- Asimetría Positiva : cola larga a la izquierda\n",
    "\n",
    "\n",
    "### Curtosis(Kurtosis)\n",
    "Medida de la concentración de los datos alrededor de la media, también es interpretada en función de la longitud de las colas"
   ]
  },
  {
   "cell_type": "markdown",
   "metadata": {},
   "source": [
    "## DISTRIBUCIÓN NORMAL (GAUSSIANA)\n",
    "\n",
    "Función de probabilidad continua\n",
    "$$ f(x) = \\frac {1}{\\sqrt {2\\pi}} e^{-x^2/2} $$ \n",
    "\n",
    "\n",
    "$$ \\int_{-\\infty}^\\infty f(x)dx = 1 $$"
   ]
  },
  {
   "cell_type": "markdown",
   "metadata": {},
   "source": [
    "Librería _sympy_"
   ]
  },
  {
   "cell_type": "code",
   "execution_count": 2,
   "metadata": {},
   "outputs": [],
   "source": [
    "import sympy as sp"
   ]
  },
  {
   "cell_type": "code",
   "execution_count": 4,
   "metadata": {},
   "outputs": [],
   "source": [
    "x = sp.symbols('x')"
   ]
  },
  {
   "cell_type": "code",
   "execution_count": 5,
   "metadata": {},
   "outputs": [
    {
     "data": {
      "text/latex": [
       "$\\displaystyle x^{2}$"
      ],
      "text/plain": [
       "x**2"
      ]
     },
     "execution_count": 5,
     "metadata": {},
     "output_type": "execute_result"
    }
   ],
   "source": [
    "x**2"
   ]
  },
  {
   "cell_type": "code",
   "execution_count": 9,
   "metadata": {},
   "outputs": [
    {
     "data": {
      "text/latex": [
       "$\\displaystyle 3 x^{2} - 2 x + 4$"
      ],
      "text/plain": [
       "3*x**2 - 2*x + 4"
      ]
     },
     "execution_count": 9,
     "metadata": {},
     "output_type": "execute_result"
    }
   ],
   "source": [
    "f = 3*x**2 - 2*x + 4\n",
    "f"
   ]
  },
  {
   "cell_type": "code",
   "execution_count": 10,
   "metadata": {},
   "outputs": [
    {
     "data": {
      "text/latex": [
       "$\\displaystyle 6 x - 2$"
      ],
      "text/plain": [
       "6*x - 2"
      ]
     },
     "execution_count": 10,
     "metadata": {},
     "output_type": "execute_result"
    }
   ],
   "source": [
    "sp.diff(f, x)"
   ]
  },
  {
   "cell_type": "code",
   "execution_count": null,
   "metadata": {},
   "outputs": [],
   "source": []
  }
 ],
 "metadata": {
  "kernelspec": {
   "display_name": "Python 3",
   "language": "python",
   "name": "python3"
  },
  "language_info": {
   "codemirror_mode": {
    "name": "ipython",
    "version": 3
   },
   "file_extension": ".py",
   "mimetype": "text/x-python",
   "name": "python",
   "nbconvert_exporter": "python",
   "pygments_lexer": "ipython3",
   "version": "3.11.4"
  },
  "orig_nbformat": 4
 },
 "nbformat": 4,
 "nbformat_minor": 2
}
