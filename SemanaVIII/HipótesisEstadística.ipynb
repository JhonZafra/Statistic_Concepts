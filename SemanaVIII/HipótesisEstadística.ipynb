{
 "cells": [
  {
   "cell_type": "markdown",
   "metadata": {},
   "source": [
    "# HIPÓTESIS ESTADÍSTICA\n",
    "\n",
    "Una hipótesis estadística es una **afirmación acerca de una población** que se formula para ser probada o refutada mediante **evidencia estadística** en un estudio o análisis.\n",
    "\n",
    "### Hipótesis Nula (H0)\n",
    "Es la afirmación inicial o la suposición que se considera como cierta o válida antes de realizar el análisis estadístico. Por otro lado, **la hipótesis alternativa (H1) o (HA)** es una afirmación que se plantea como una posible explicación o resultado alternativo \n",
    "\n",
    "Ejemplo:\n",
    "Los estudiantes de la universidad tienen una estatura promedio de 170cm\n",
    "\n",
    "- Población: estudiantes de la universidad\n",
    "- Hipótesis nula $H_0: \\mu = 170cm$\n",
    "- Hipótesis alternativa $H_1: \\mu \\neq 170cm$\n",
    "\n",
    "### Asimetría de un conjunto de datos (skew)\n",
    "- Asimetría Negativa : cola corta a la izquierda\n",
    "- Asimetría Positiva : cola larga a la izquierda\n",
    "\n",
    "\n",
    "### Curtosis(Kurtosis)\n",
    "Medida de la concentración de los datos alrededor de la media, también es interpretada en función de la longitud de las colas"
   ]
  },
  {
   "cell_type": "markdown",
   "metadata": {},
   "source": [
    "## DISTRIBUCIÓN NORMAL (GAUSSIANA)\n",
    "\n",
    "Función de probabilidad continua\n",
    "$$ f(x) = \\frac {1}{\\sqrt {2\\pi}} e^{-x^2/2} $$ \n",
    "\n",
    "\n",
    "$$ \\int_{-\\infty}^\\infty f(x)dx = 1 $$"
   ]
  },
  {
   "cell_type": "markdown",
   "metadata": {},
   "source": [
    "Librería _sympy_"
   ]
  },
  {
   "cell_type": "code",
   "execution_count": 2,
   "metadata": {},
   "outputs": [],
   "source": [
    "import sympy as sp"
   ]
  },
  {
   "cell_type": "code",
   "execution_count": 4,
   "metadata": {},
   "outputs": [],
   "source": [
    "x = sp.symbols('x')"
   ]
  },
  {
   "cell_type": "code",
   "execution_count": 5,
   "metadata": {},
   "outputs": [
    {
     "data": {
      "text/latex": [
       "$\\displaystyle x^{2}$"
      ],
      "text/plain": [
       "x**2"
      ]
     },
     "execution_count": 5,
     "metadata": {},
     "output_type": "execute_result"
    }
   ],
   "source": [
    "x**2"
   ]
  },
  {
   "cell_type": "code",
   "execution_count": 9,
   "metadata": {},
   "outputs": [
    {
     "data": {
      "text/latex": [
       "$\\displaystyle 3 x^{2} - 2 x + 4$"
      ],
      "text/plain": [
       "3*x**2 - 2*x + 4"
      ]
     },
     "execution_count": 9,
     "metadata": {},
     "output_type": "execute_result"
    }
   ],
   "source": [
    "f = 3*x**2 - 2*x + 4\n",
    "f"
   ]
  },
  {
   "cell_type": "code",
   "execution_count": 10,
   "metadata": {},
   "outputs": [
    {
     "data": {
      "text/latex": [
       "$\\displaystyle 6 x - 2$"
      ],
      "text/plain": [
       "6*x - 2"
      ]
     },
     "execution_count": 10,
     "metadata": {},
     "output_type": "execute_result"
    }
   ],
   "source": [
    "# Derivada de la función f\n",
    "sp.diff(f, x)"
   ]
  },
  {
   "cell_type": "code",
   "execution_count": 13,
   "metadata": {},
   "outputs": [
    {
     "data": {
      "text/latex": [
       "$\\displaystyle x^{3} - x^{2} + 4 x$"
      ],
      "text/plain": [
       "x**3 - x**2 + 4*x"
      ]
     },
     "execution_count": 13,
     "metadata": {},
     "output_type": "execute_result"
    }
   ],
   "source": [
    "# Integral indefinida\n",
    "sp.integrate(f, x) # (Función a integrar, respecto a la variable)"
   ]
  },
  {
   "cell_type": "markdown",
   "metadata": {},
   "source": [
    "Integral definida\n",
    "\n",
    "$$ \\int_{-1}^2 f(x)dx $$"
   ]
  },
  {
   "cell_type": "code",
   "execution_count": 14,
   "metadata": {},
   "outputs": [
    {
     "data": {
      "text/latex": [
       "$\\displaystyle 18$"
      ],
      "text/plain": [
       "18"
      ]
     },
     "execution_count": 14,
     "metadata": {},
     "output_type": "execute_result"
    }
   ],
   "source": [
    "# Integral definida\n",
    "sp.integrate(f, (x, -1, 2))"
   ]
  },
  {
   "cell_type": "markdown",
   "metadata": {},
   "source": [
    "Integral impropia: ambos límites están en el infinito\n",
    "\n",
    "$$ \\int_{-\\infty}^\\infty f(x)dx $$"
   ]
  },
  {
   "cell_type": "code",
   "execution_count": 15,
   "metadata": {},
   "outputs": [
    {
     "data": {
      "text/latex": [
       "$\\displaystyle \\infty$"
      ],
      "text/plain": [
       "oo"
      ]
     },
     "execution_count": 15,
     "metadata": {},
     "output_type": "execute_result"
    }
   ],
   "source": [
    "sp.integrate(f, (x, -sp.oo, sp.oo))"
   ]
  },
  {
   "cell_type": "markdown",
   "metadata": {},
   "source": [
    " DISTRIBUCIÓN NORMAL (GAUSSIANA)\n",
    "\n",
    "Función de probabilidad continua\n",
    "$$ f(x) = \\frac {1}{\\sqrt {2\\pi}} e^{-x^2/2} $$ \n",
    "\n",
    "\n",
    "$$ \\int_{-\\infty}^\\infty f(x)dx = 1 $$"
   ]
  },
  {
   "cell_type": "code",
   "execution_count": 16,
   "metadata": {},
   "outputs": [
    {
     "data": {
      "text/latex": [
       "$\\displaystyle \\frac{\\sqrt{2} e^{- \\frac{x^{2}}{2}}}{2 \\sqrt{\\pi}}$"
      ],
      "text/plain": [
       "sqrt(2)*exp(-x**2/2)/(2*sqrt(pi))"
      ]
     },
     "execution_count": 16,
     "metadata": {},
     "output_type": "execute_result"
    }
   ],
   "source": [
    "f = (1/ sp.sqrt(2*sp.pi) * sp.exp(-(x**2)/2))\n",
    "f"
   ]
  },
  {
   "cell_type": "code",
   "execution_count": 17,
   "metadata": {},
   "outputs": [
    {
     "data": {
      "text/latex": [
       "$\\displaystyle 1$"
      ],
      "text/plain": [
       "1"
      ]
     },
     "execution_count": 17,
     "metadata": {},
     "output_type": "execute_result"
    }
   ],
   "source": [
    "sp.integrate(f, (x, -sp.oo, sp.oo))"
   ]
  },
  {
   "cell_type": "code",
   "execution_count": 18,
   "metadata": {},
   "outputs": [],
   "source": [
    "import numpy as np\n",
    "import matplotlib.pyplot as plt"
   ]
  },
  {
   "cell_type": "code",
   "execution_count": 19,
   "metadata": {},
   "outputs": [
    {
     "data": {
      "image/png": "[encoded data removed]",
      "text/plain": [
       "<Figure size 500x400 with 1 Axes>"
      ]
     },
     "metadata": {},
     "output_type": "display_data"
    }
   ],
   "source": [
    "plt.figure(figsize= (5,4))\n",
    "t = np.linspace(-5, 5, 100)\n",
    "F = sp.lambdify(x, f)(t) # Evalue la función f en los puntos t\n",
    "\n",
    "plt.plot(t, F)\n",
    "plt.show()"
   ]
  },
  {
   "cell_type": "code",
   "execution_count": null,
   "metadata": {},
   "outputs": [],
   "source": []
  }
 ],
 "metadata": {
  "kernelspec": {
   "display_name": "Python 3",
   "language": "python",
   "name": "python3"
  },
  "language_info": {
   "codemirror_mode": {
    "name": "ipython",
    "version": 3
   },
   "file_extension": ".py",
   "mimetype": "text/x-python",
   "name": "python",
   "nbconvert_exporter": "python",
   "pygments_lexer": "ipython3",
   "version": "3.11.4"
  },
  "orig_nbformat": 4
 },
 "nbformat": 4,
 "nbformat_minor": 2
}
