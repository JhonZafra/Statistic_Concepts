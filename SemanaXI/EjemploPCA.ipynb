{
 "cells": [
  {
   "cell_type": "markdown",
   "metadata": {},
   "source": [
    "### ANÁLISIS CÉLULAS EN UN ESTUDIO DE CÁNCER"
   ]
  },
  {
   "cell_type": "code",
   "execution_count": 2,
   "metadata": {},
   "outputs": [],
   "source": [
    "import pandas as pd\n",
    "import numpy as np\n",
    "import matplotlib.pyplot as plt\n",
    "from sklearn.decomposition import PCA"
   ]
  },
  {
   "cell_type": "code",
   "execution_count": 1,
   "metadata": {},
   "outputs": [],
   "source": [
    "url = 'https://raw.githubusercontent.com/nicoavilan/Bases-de-datos/main/cancer.csv'"
   ]
  },
  {
   "cell_type": "code",
   "execution_count": 6,
   "metadata": {},
   "outputs": [
    {
     "data": {
      "text/html": [
       "<div>\n",
       "<style scoped>\n",
       "    .dataframe tbody tr th:only-of-type {\n",
       "        vertical-align: middle;\n",
       "    }\n",
       "\n",
       "    .dataframe tbody tr th {\n",
       "        vertical-align: top;\n",
       "    }\n",
       "\n",
       "    .dataframe thead th {\n",
       "        text-align: right;\n",
       "    }\n",
       "</style>\n",
       "<table border=\"1\" class=\"dataframe\">\n",
       "  <thead>\n",
       "    <tr style=\"text-align: right;\">\n",
       "      <th></th>\n",
       "      <th>ID</th>\n",
       "      <th>Tipo</th>\n",
       "      <th>Radio</th>\n",
       "      <th>Textura</th>\n",
       "      <th>Perimetro</th>\n",
       "      <th>Area</th>\n",
       "      <th>Suavidad</th>\n",
       "      <th>Compacidad</th>\n",
       "      <th>Concavidad</th>\n",
       "      <th>Puntos_Conca</th>\n",
       "      <th>...</th>\n",
       "      <th>Radio_WM</th>\n",
       "      <th>Textura_WM</th>\n",
       "      <th>Perimetro_WM</th>\n",
       "      <th>Area_WM</th>\n",
       "      <th>Suavidad_WM</th>\n",
       "      <th>Compacidad_WM</th>\n",
       "      <th>Concavidad_WM</th>\n",
       "      <th>Puntos_Conca_WM</th>\n",
       "      <th>Simetria_WM</th>\n",
       "      <th>Fractal_WM</th>\n",
       "    </tr>\n",
       "  </thead>\n",
       "  <tbody>\n",
       "    <tr>\n",
       "      <th>0</th>\n",
       "      <td>842302</td>\n",
       "      <td>M</td>\n",
       "      <td>1799</td>\n",
       "      <td>1038</td>\n",
       "      <td>1228</td>\n",
       "      <td>1001</td>\n",
       "      <td>1184</td>\n",
       "      <td>2776</td>\n",
       "      <td>3001</td>\n",
       "      <td>1471</td>\n",
       "      <td>...</td>\n",
       "      <td>2538</td>\n",
       "      <td>1733</td>\n",
       "      <td>1846</td>\n",
       "      <td>2019</td>\n",
       "      <td>1622</td>\n",
       "      <td>6656</td>\n",
       "      <td>7119</td>\n",
       "      <td>2654</td>\n",
       "      <td>4601</td>\n",
       "      <td>1189</td>\n",
       "    </tr>\n",
       "    <tr>\n",
       "      <th>1</th>\n",
       "      <td>842517</td>\n",
       "      <td>M</td>\n",
       "      <td>2057</td>\n",
       "      <td>1777</td>\n",
       "      <td>1329</td>\n",
       "      <td>1326</td>\n",
       "      <td>8474</td>\n",
       "      <td>7864</td>\n",
       "      <td>869</td>\n",
       "      <td>7017</td>\n",
       "      <td>...</td>\n",
       "      <td>2499</td>\n",
       "      <td>2341</td>\n",
       "      <td>1588</td>\n",
       "      <td>1956</td>\n",
       "      <td>1238</td>\n",
       "      <td>1866</td>\n",
       "      <td>2416</td>\n",
       "      <td>186</td>\n",
       "      <td>275</td>\n",
       "      <td>8902</td>\n",
       "    </tr>\n",
       "    <tr>\n",
       "      <th>2</th>\n",
       "      <td>84300903</td>\n",
       "      <td>M</td>\n",
       "      <td>1969</td>\n",
       "      <td>2125</td>\n",
       "      <td>130</td>\n",
       "      <td>1203</td>\n",
       "      <td>1096</td>\n",
       "      <td>1599</td>\n",
       "      <td>1974</td>\n",
       "      <td>1279</td>\n",
       "      <td>...</td>\n",
       "      <td>2357</td>\n",
       "      <td>2553</td>\n",
       "      <td>1525</td>\n",
       "      <td>1709</td>\n",
       "      <td>1444</td>\n",
       "      <td>4245</td>\n",
       "      <td>4504</td>\n",
       "      <td>243</td>\n",
       "      <td>3613</td>\n",
       "      <td>8758</td>\n",
       "    </tr>\n",
       "    <tr>\n",
       "      <th>3</th>\n",
       "      <td>84348301</td>\n",
       "      <td>M</td>\n",
       "      <td>1142</td>\n",
       "      <td>2038</td>\n",
       "      <td>7758</td>\n",
       "      <td>3861</td>\n",
       "      <td>1425</td>\n",
       "      <td>2839</td>\n",
       "      <td>2414</td>\n",
       "      <td>1052</td>\n",
       "      <td>...</td>\n",
       "      <td>1491</td>\n",
       "      <td>265</td>\n",
       "      <td>9887</td>\n",
       "      <td>5677</td>\n",
       "      <td>2098</td>\n",
       "      <td>8663</td>\n",
       "      <td>6869</td>\n",
       "      <td>2575</td>\n",
       "      <td>6638</td>\n",
       "      <td>173</td>\n",
       "    </tr>\n",
       "    <tr>\n",
       "      <th>4</th>\n",
       "      <td>84358402</td>\n",
       "      <td>M</td>\n",
       "      <td>2029</td>\n",
       "      <td>1434</td>\n",
       "      <td>1351</td>\n",
       "      <td>1297</td>\n",
       "      <td>1003</td>\n",
       "      <td>1328</td>\n",
       "      <td>198</td>\n",
       "      <td>1043</td>\n",
       "      <td>...</td>\n",
       "      <td>2254</td>\n",
       "      <td>1667</td>\n",
       "      <td>1522</td>\n",
       "      <td>1575</td>\n",
       "      <td>1374</td>\n",
       "      <td>205</td>\n",
       "      <td>4</td>\n",
       "      <td>1625</td>\n",
       "      <td>2364</td>\n",
       "      <td>7678</td>\n",
       "    </tr>\n",
       "  </tbody>\n",
       "</table>\n",
       "<p>5 rows × 32 columns</p>\n",
       "</div>"
      ],
      "text/plain": [
       "         ID Tipo  Radio  Textura  Perimetro  Area  Suavidad  Compacidad  \\\n",
       "0    842302    M   1799     1038       1228  1001      1184        2776   \n",
       "1    842517    M   2057     1777       1329  1326      8474        7864   \n",
       "2  84300903    M   1969     2125        130  1203      1096        1599   \n",
       "3  84348301    M   1142     2038       7758  3861      1425        2839   \n",
       "4  84358402    M   2029     1434       1351  1297      1003        1328   \n",
       "\n",
       "   Concavidad  Puntos_Conca  ...  Radio_WM  Textura_WM  Perimetro_WM  Area_WM  \\\n",
       "0        3001          1471  ...      2538        1733          1846     2019   \n",
       "1         869          7017  ...      2499        2341          1588     1956   \n",
       "2        1974          1279  ...      2357        2553          1525     1709   \n",
       "3        2414          1052  ...      1491         265          9887     5677   \n",
       "4         198          1043  ...      2254        1667          1522     1575   \n",
       "\n",
       "   Suavidad_WM  Compacidad_WM  Concavidad_WM  Puntos_Conca_WM  Simetria_WM  \\\n",
       "0         1622           6656           7119             2654         4601   \n",
       "1         1238           1866           2416              186          275   \n",
       "2         1444           4245           4504              243         3613   \n",
       "3         2098           8663           6869             2575         6638   \n",
       "4         1374            205              4             1625         2364   \n",
       "\n",
       "   Fractal_WM  \n",
       "0        1189  \n",
       "1        8902  \n",
       "2        8758  \n",
       "3         173  \n",
       "4        7678  \n",
       "\n",
       "[5 rows x 32 columns]"
      ]
     },
     "execution_count": 6,
     "metadata": {},
     "output_type": "execute_result"
    }
   ],
   "source": [
    "df = pd.read_csv(url)\n",
    "df.head()"
   ]
  },
  {
   "cell_type": "code",
   "execution_count": 7,
   "metadata": {},
   "outputs": [
    {
     "name": "stdout",
     "output_type": "stream",
     "text": [
      "<class 'pandas.core.frame.DataFrame'>\n",
      "RangeIndex: 569 entries, 0 to 568\n",
      "Data columns (total 32 columns):\n",
      " #   Column           Non-Null Count  Dtype \n",
      "---  ------           --------------  ----- \n",
      " 0   ID               569 non-null    int64 \n",
      " 1   Tipo             569 non-null    object\n",
      " 2   Radio            569 non-null    int64 \n",
      " 3   Textura          569 non-null    int64 \n",
      " 4   Perimetro        569 non-null    int64 \n",
      " 5   Area             569 non-null    int64 \n",
      " 6   Suavidad         569 non-null    int64 \n",
      " 7   Compacidad       569 non-null    int64 \n",
      " 8   Concavidad       569 non-null    int64 \n",
      " 9   Puntos_Conca     569 non-null    int64 \n",
      " 10  Simetria         569 non-null    int64 \n",
      " 11  Fractal          569 non-null    int64 \n",
      " 12  Radio_SE         569 non-null    int64 \n",
      " 13  Textura_SE       569 non-null    int64 \n",
      " 14  Perimetro_SE     569 non-null    int64 \n",
      " 15  Area_SE          569 non-null    int64 \n",
      " 16  Suavidad_SE      569 non-null    int64 \n",
      " 17  Compacidad_SE    569 non-null    int64 \n",
      " 18  Concavidad_SE    569 non-null    int64 \n",
      " 19  Puntos_Conca_SE  569 non-null    int64 \n",
      " 20  Simetria_SE      569 non-null    int64 \n",
      " 21  Fractal_SE       569 non-null    int64 \n",
      " 22  Radio_WM         569 non-null    int64 \n",
      " 23  Textura_WM       569 non-null    int64 \n",
      " 24  Perimetro_WM     569 non-null    int64 \n",
      " 25  Area_WM          569 non-null    int64 \n",
      " 26  Suavidad_WM      569 non-null    int64 \n",
      " 27  Compacidad_WM    569 non-null    int64 \n",
      " 28  Concavidad_WM    569 non-null    int64 \n",
      " 29  Puntos_Conca_WM  569 non-null    int64 \n",
      " 30  Simetria_WM      569 non-null    int64 \n",
      " 31  Fractal_WM       569 non-null    int64 \n",
      "dtypes: int64(31), object(1)\n",
      "memory usage: 142.4+ KB\n"
     ]
    }
   ],
   "source": [
    "df.info()"
   ]
  },
  {
   "cell_type": "code",
   "execution_count": 8,
   "metadata": {},
   "outputs": [
    {
     "data": {
      "text/plain": [
       "Index(['ID', 'Tipo', 'Radio', 'Textura', 'Perimetro', 'Area', 'Suavidad',\n",
       "       'Compacidad', 'Concavidad', 'Puntos_Conca', 'Simetria', 'Fractal',\n",
       "       'Radio_SE', 'Textura_SE', 'Perimetro_SE', 'Area_SE', 'Suavidad_SE',\n",
       "       'Compacidad_SE', 'Concavidad_SE', 'Puntos_Conca_SE', 'Simetria_SE',\n",
       "       'Fractal_SE', 'Radio_WM', 'Textura_WM', 'Perimetro_WM', 'Area_WM',\n",
       "       'Suavidad_WM', 'Compacidad_WM', 'Concavidad_WM', 'Puntos_Conca_WM',\n",
       "       'Simetria_WM', 'Fractal_WM'],\n",
       "      dtype='object')"
      ]
     },
     "execution_count": 8,
     "metadata": {},
     "output_type": "execute_result"
    }
   ],
   "source": [
    "df.columns"
   ]
  },
  {
   "cell_type": "code",
   "execution_count": 23,
   "metadata": {},
   "outputs": [
    {
     "data": {
      "text/plain": [
       "Index(['Radio', 'Textura', 'Perimetro', 'Area', 'Suavidad', 'Compacidad',\n",
       "       'Concavidad', 'Puntos_Conca', 'Simetria', 'Fractal', 'Radio_SE',\n",
       "       'Textura_SE', 'Perimetro_SE', 'Area_SE', 'Suavidad_SE', 'Compacidad_SE',\n",
       "       'Concavidad_SE', 'Puntos_Conca_SE', 'Simetria_SE', 'Fractal_SE',\n",
       "       'Radio_WM', 'Textura_WM', 'Perimetro_WM', 'Area_WM', 'Suavidad_WM',\n",
       "       'Compacidad_WM', 'Concavidad_WM', 'Puntos_Conca_WM', 'Simetria_WM',\n",
       "       'Fractal_WM'],\n",
       "      dtype='object')"
      ]
     },
     "execution_count": 23,
     "metadata": {},
     "output_type": "execute_result"
    }
   ],
   "source": [
    "df.columns[2:]"
   ]
  },
  {
   "cell_type": "code",
   "execution_count": 26,
   "metadata": {},
   "outputs": [
    {
     "data": {
      "text/plain": [
       "(569, 30)"
      ]
     },
     "execution_count": 26,
     "metadata": {},
     "output_type": "execute_result"
    }
   ],
   "source": [
    "# Selecciono los valores numéricos del dataframe desde la segunda columna en\n",
    "# adelante\n",
    "\n",
    "x = df[df.columns[2:]].values.copy()\n",
    "x.shape \n"
   ]
  },
  {
   "cell_type": "code",
   "execution_count": 27,
   "metadata": {},
   "outputs": [
    {
     "data": {
      "text/plain": [
       "numpy.ndarray"
      ]
     },
     "execution_count": 27,
     "metadata": {},
     "output_type": "execute_result"
    }
   ],
   "source": [
    "type(x)"
   ]
  },
  {
   "cell_type": "code",
   "execution_count": 28,
   "metadata": {},
   "outputs": [
    {
     "data": {
      "text/plain": [
       "0      M\n",
       "1      M\n",
       "2      M\n",
       "3      M\n",
       "4      M\n",
       "      ..\n",
       "564    M\n",
       "565    M\n",
       "566    M\n",
       "567    M\n",
       "568    B\n",
       "Name: Tipo, Length: 569, dtype: object"
      ]
     },
     "execution_count": 28,
     "metadata": {},
     "output_type": "execute_result"
    }
   ],
   "source": [
    "df.Tipo"
   ]
  },
  {
   "cell_type": "code",
   "execution_count": 29,
   "metadata": {},
   "outputs": [
    {
     "data": {
      "text/plain": [
       "array([  0,   1,   2,   3,   4,   5,   6,   7,   8,   9,  10,  11,  12,\n",
       "        13,  14,  15,  16,  17,  18,  22,  23,  24,  25,  26,  27,  28,\n",
       "        29,  30,  31,  32,  33,  34,  35,  36,  38,  39,  40,  41,  42,\n",
       "        43,  44,  45,  47,  53,  54,  56,  57,  62,  64,  65,  70,  72,\n",
       "        73,  75,  77,  78,  82,  83,  85,  86,  87,  91,  94,  95,  99,\n",
       "       100, 105, 108, 117, 118, 119, 121, 122, 126, 127, 129, 131, 132,\n",
       "       134, 135, 138, 141, 146, 156, 161, 162, 164, 167, 168, 171, 172,\n",
       "       177, 180, 181, 182, 184, 186, 190, 193, 194, 196, 197, 198, 199,\n",
       "       201, 202, 203, 205, 207, 210, 212, 213, 214, 215, 218, 219, 223,\n",
       "       229, 230, 233, 236, 237, 239, 244, 250, 252, 253, 254, 255, 256,\n",
       "       257, 258, 259, 260, 261, 262, 263, 264, 265, 272, 274, 277, 280,\n",
       "       282, 283, 297, 300, 302, 317, 321, 323, 328, 329, 330, 335, 337,\n",
       "       339, 343, 351, 352, 353, 365, 366, 368, 369, 370, 372, 373, 379,\n",
       "       385, 389, 392, 393, 400, 408, 414, 417, 430, 432, 433, 435, 441,\n",
       "       444, 446, 449, 451, 460, 461, 468, 479, 487, 489, 492, 498, 499,\n",
       "       501, 503, 509, 512, 514, 516, 517, 521, 533, 535, 536, 562, 563,\n",
       "       564, 565, 566, 567], dtype=int64)"
      ]
     },
     "execution_count": 29,
     "metadata": {},
     "output_type": "execute_result"
    }
   ],
   "source": [
    "np.where ( df.Tipo == 'M' )[0]"
   ]
  },
  {
   "cell_type": "code",
   "execution_count": 35,
   "metadata": {},
   "outputs": [
    {
     "data": {
      "image/png": "[encoded data removed]",
      "text/plain": [
       "<Figure size 500x400 with 1 Axes>"
      ]
     },
     "metadata": {},
     "output_type": "display_data"
    }
   ],
   "source": [
    "j, k = 5, 8 # selecciono las columnas a graficar\n",
    "plt.figure(figsize= (5,4))\n",
    "plt.scatter(x[np.where ( df.Tipo == 'M' )[0], j], \n",
    "            x[np.where ( df.Tipo == 'M' )[0], k],\n",
    "            color = 'red', label='M')\n",
    "plt.scatter(x[np.where ( df.Tipo == 'B' )[0], j], \n",
    "            x[np.where ( df.Tipo == 'B' )[0], k],\n",
    "            color = 'green', label='B')\n",
    "plt.legend()\n",
    "plt.xlabel(df.columns[j])\n",
    "plt.ylabel(df.columns[k])\n",
    "plt.show()"
   ]
  },
  {
   "cell_type": "code",
   "execution_count": 39,
   "metadata": {},
   "outputs": [
    {
     "data": {
      "text/plain": [
       "30"
      ]
     },
     "execution_count": 39,
     "metadata": {},
     "output_type": "execute_result"
    }
   ],
   "source": [
    "len(df.columns[2:])"
   ]
  },
  {
   "cell_type": "code",
   "execution_count": 40,
   "metadata": {},
   "outputs": [
    {
     "data": {
      "text/html": [
       "<style>#sk-container-id-1 {color: black;}#sk-container-id-1 pre{padding: 0;}#sk-container-id-1 div.sk-toggleable {background-color: white;}#sk-container-id-1 label.sk-toggleable__label {cursor: pointer;display: block;width: 100%;margin-bottom: 0;padding: 0.3em;box-sizing: border-box;text-align: center;}#sk-container-id-1 label.sk-toggleable__label-arrow:before {content: \"▸\";float: left;margin-right: 0.25em;color: #696969;}#sk-container-id-1 label.sk-toggleable__label-arrow:hover:before {color: black;}#sk-container-id-1 div.sk-estimator:hover label.sk-toggleable__label-arrow:before {color: black;}#sk-container-id-1 div.sk-toggleable__content {max-height: 0;max-width: 0;overflow: hidden;text-align: left;background-color: #f0f8ff;}#sk-container-id-1 div.sk-toggleable__content pre {margin: 0.2em;color: black;border-radius: 0.25em;background-color: #f0f8ff;}#sk-container-id-1 input.sk-toggleable__control:checked~div.sk-toggleable__content {max-height: 200px;max-width: 100%;overflow: auto;}#sk-container-id-1 input.sk-toggleable__control:checked~label.sk-toggleable__label-arrow:before {content: \"▾\";}#sk-container-id-1 div.sk-estimator input.sk-toggleable__control:checked~label.sk-toggleable__label {background-color: #d4ebff;}#sk-container-id-1 div.sk-label input.sk-toggleable__control:checked~label.sk-toggleable__label {background-color: #d4ebff;}#sk-container-id-1 input.sk-hidden--visually {border: 0;clip: rect(1px 1px 1px 1px);clip: rect(1px, 1px, 1px, 1px);height: 1px;margin: -1px;overflow: hidden;padding: 0;position: absolute;width: 1px;}#sk-container-id-1 div.sk-estimator {font-family: monospace;background-color: #f0f8ff;border: 1px dotted black;border-radius: 0.25em;box-sizing: border-box;margin-bottom: 0.5em;}#sk-container-id-1 div.sk-estimator:hover {background-color: #d4ebff;}#sk-container-id-1 div.sk-parallel-item::after {content: \"\";width: 100%;border-bottom: 1px solid gray;flex-grow: 1;}#sk-container-id-1 div.sk-label:hover label.sk-toggleable__label {background-color: #d4ebff;}#sk-container-id-1 div.sk-serial::before {content: \"\";position: absolute;border-left: 1px solid gray;box-sizing: border-box;top: 0;bottom: 0;left: 50%;z-index: 0;}#sk-container-id-1 div.sk-serial {display: flex;flex-direction: column;align-items: center;background-color: white;padding-right: 0.2em;padding-left: 0.2em;position: relative;}#sk-container-id-1 div.sk-item {position: relative;z-index: 1;}#sk-container-id-1 div.sk-parallel {display: flex;align-items: stretch;justify-content: center;background-color: white;position: relative;}#sk-container-id-1 div.sk-item::before, #sk-container-id-1 div.sk-parallel-item::before {content: \"\";position: absolute;border-left: 1px solid gray;box-sizing: border-box;top: 0;bottom: 0;left: 50%;z-index: -1;}#sk-container-id-1 div.sk-parallel-item {display: flex;flex-direction: column;z-index: 1;position: relative;background-color: white;}#sk-container-id-1 div.sk-parallel-item:first-child::after {align-self: flex-end;width: 50%;}#sk-container-id-1 div.sk-parallel-item:last-child::after {align-self: flex-start;width: 50%;}#sk-container-id-1 div.sk-parallel-item:only-child::after {width: 0;}#sk-container-id-1 div.sk-dashed-wrapped {border: 1px dashed gray;margin: 0 0.4em 0.5em 0.4em;box-sizing: border-box;padding-bottom: 0.4em;background-color: white;}#sk-container-id-1 div.sk-label label {font-family: monospace;font-weight: bold;display: inline-block;line-height: 1.2em;}#sk-container-id-1 div.sk-label-container {text-align: center;}#sk-container-id-1 div.sk-container {/* jupyter's `normalize.less` sets `[hidden] { display: none; }` but bootstrap.min.css set `[hidden] { display: none !important; }` so we also need the `!important` here to be able to override the default hidden behavior on the sphinx rendered scikit-learn.org. See: https://github.com/scikit-learn/scikit-learn/issues/21755 */display: inline-block !important;position: relative;}#sk-container-id-1 div.sk-text-repr-fallback {display: none;}</style><div id=\"sk-container-id-1\" class=\"sk-top-container\"><div class=\"sk-text-repr-fallback\"><pre>PCA(n_components=30)</pre><b>In a Jupyter environment, please rerun this cell to show the HTML representation or trust the notebook. <br />On GitHub, the HTML representation is unable to render, please try loading this page with nbviewer.org.</b></div><div class=\"sk-container\" hidden><div class=\"sk-item\"><div class=\"sk-estimator sk-toggleable\"><input class=\"sk-toggleable__control sk-hidden--visually\" id=\"sk-estimator-id-1\" type=\"checkbox\" checked><label for=\"sk-estimator-id-1\" class=\"sk-toggleable__label sk-toggleable__label-arrow\">PCA</label><div class=\"sk-toggleable__content\"><pre>PCA(n_components=30)</pre></div></div></div></div></div>"
      ],
      "text/plain": [
       "PCA(n_components=30)"
      ]
     },
     "execution_count": 40,
     "metadata": {},
     "output_type": "execute_result"
    }
   ],
   "source": [
    "pca = PCA(n_components=30)\n",
    "pca.fit(x)"
   ]
  },
  {
   "cell_type": "code",
   "execution_count": 41,
   "metadata": {},
   "outputs": [
    {
     "data": {
      "text/plain": [
       "array([[-4.34153855e-02, -2.09121721e-02,  4.17614912e-01,\n",
       "         4.31114136e-02,  3.56632219e-01,  2.97397684e-01,\n",
       "         9.89783322e-02, -2.11800354e-01, -2.57094953e-02,\n",
       "        -4.57797353e-02, -1.91772634e-01,  4.46849979e-02,\n",
       "        -1.58265573e-01, -1.70478542e-01,  8.08206737e-03,\n",
       "        -4.07846798e-02, -9.11671770e-02,  2.82511974e-01,\n",
       "        -2.76060561e-02, -8.90920831e-02, -6.27696492e-02,\n",
       "        -3.54354723e-02,  4.31449096e-01,  1.90841224e-01,\n",
       "         3.24390245e-02, -1.03390830e-01, -1.15509369e-01,\n",
       "         2.97279364e-01, -2.62013073e-02,  1.22575722e-01],\n",
       "       [ 6.51509252e-02, -1.83127299e-02,  1.72629639e-01,\n",
       "        -8.47141570e-02, -7.43084062e-01, -4.57714102e-02,\n",
       "        -3.05284726e-02, -1.26831002e-01,  1.50859425e-02,\n",
       "         9.16453258e-02, -7.36572140e-02, -8.60218490e-02,\n",
       "        -5.68294487e-02, -1.10729617e-01,  7.36627520e-03,\n",
       "         1.08238306e-01,  8.14048489e-02, -1.04999681e-01,\n",
       "         6.14843354e-02,  1.18357447e-01, -3.24564952e-02,\n",
       "        -2.05905990e-02,  4.49317710e-01,  6.51461245e-02,\n",
       "         5.58312241e-03,  7.41703733e-02,  9.17296819e-02,\n",
       "         1.59698000e-01,  3.07880456e-02, -2.34514491e-01],\n",
       "       [-1.91350343e-01,  5.70500844e-03,  4.11416234e-01,\n",
       "         3.40801765e-01,  3.09631928e-05, -2.32509564e-01,\n",
       "         5.88975109e-02,  2.47131130e-01,  9.12922416e-03,\n",
       "         3.73586964e-02, -1.29852990e-01,  2.53284932e-01,\n",
       "        -9.07070535e-02, -1.05707875e-01,  5.24164455e-02,\n",
       "         2.90077385e-03,  3.97450712e-02, -3.83747763e-02,\n",
       "        -1.30550333e-02,  3.21071256e-02, -8.29774260e-02,\n",
       "        -1.89222288e-02, -2.76109903e-01,  4.55289975e-01,\n",
       "        -2.44717622e-02,  9.94034490e-02,  5.62057953e-03,\n",
       "        -1.59747180e-01,  1.56346774e-02, -3.51269678e-01],\n",
       "       [ 1.79231532e-02, -2.06385968e-02, -1.79126826e-01,\n",
       "         3.16528710e-02, -3.33604519e-01,  2.07452816e-01,\n",
       "         1.81562695e-02,  2.20510554e-02, -3.93734017e-03,\n",
       "        -6.50315200e-02, -2.73537354e-02,  7.78531025e-01,\n",
       "        -3.78329415e-02,  5.56377971e-02,  4.38122968e-03,\n",
       "        -9.43789521e-02, -9.55460282e-02,  2.51974712e-01,\n",
       "        -5.02663073e-02, -1.61795046e-01,  3.01266095e-02,\n",
       "        -4.77070845e-02, -1.10283011e-01, -9.25592866e-02,\n",
       "        -1.45276432e-01, -1.21612854e-01, -1.80102439e-02,\n",
       "         1.40101573e-01,  1.10590181e-02,  7.24930871e-02],\n",
       "       [ 5.68491545e-02,  6.89111973e-04, -1.28869541e-01,\n",
       "        -1.96007401e-01,  3.80009011e-01, -2.01468405e-01,\n",
       "        -1.85236864e-01, -1.49896753e-01,  1.91561141e-03,\n",
       "         1.89900087e-02, -6.56791134e-03,  3.67070489e-01,\n",
       "         3.76304189e-02, -5.56133905e-02,  1.42230582e-01,\n",
       "         4.02225926e-01,  1.50226976e-01,  7.32218012e-02,\n",
       "         3.07670155e-02,  6.93690308e-02,  5.37767405e-02,\n",
       "        -1.79996349e-02,  2.06785296e-01, -1.33641077e-01,\n",
       "         6.35847983e-02,  2.94347811e-01,  2.67581092e-01,\n",
       "         3.87651266e-02,  2.49451659e-02, -3.41113575e-01],\n",
       "       [ 1.63405509e-05,  1.47567963e-02, -1.78633455e-01,\n",
       "         2.22136181e-01, -5.07880803e-02,  2.26562676e-01,\n",
       "        -1.28295112e-01,  1.14365634e-01, -1.05857022e-03,\n",
       "        -2.14039094e-03,  6.67735278e-03, -3.80007557e-01,\n",
       "         5.90694139e-03,  3.46586742e-02,  1.46969941e-01,\n",
       "        -1.96420579e-02, -7.71551536e-03,  5.88575216e-01,\n",
       "         2.91848172e-03, -5.79419387e-02, -6.59640932e-02,\n",
       "         4.64838018e-02, -1.68226220e-01, -5.68633119e-02,\n",
       "        -1.12330101e-01,  1.16216037e-02,  1.77321597e-01,\n",
       "         2.15844631e-01,  3.45062473e-02, -4.33051106e-01],\n",
       "       [ 3.95394829e-01, -3.21878747e-02,  1.73632652e-01,\n",
       "        -1.42160834e-01,  5.49496741e-02,  3.55777387e-01,\n",
       "        -1.50560549e-01, -2.55456739e-02, -1.00317901e-02,\n",
       "         1.01230502e-01, -4.39660973e-02,  3.56704902e-02,\n",
       "        -5.98664724e-02,  6.46644899e-02, -3.24101041e-01,\n",
       "        -8.48900167e-02, -2.96358000e-01, -8.94418232e-02,\n",
       "         2.21411122e-02, -4.46948050e-02,  1.72444319e-01,\n",
       "        -3.97206994e-02, -4.49927421e-02, -1.04037985e-01,\n",
       "         9.34211427e-02,  5.04852393e-02, -2.23517984e-01,\n",
       "        -3.21886094e-01,  2.22705033e-02, -4.44929067e-01],\n",
       "       [ 6.66765980e-02,  3.30585185e-03, -2.44075969e-02,\n",
       "         4.59765864e-02,  7.69189141e-02, -3.03049457e-01,\n",
       "         5.13706990e-02,  3.98998359e-01,  1.10524778e-03,\n",
       "         1.60980856e-02,  1.88755725e-02,  2.58574487e-02,\n",
       "        -9.72501825e-03,  4.25607227e-02, -7.58328242e-01,\n",
       "        -6.30594121e-02,  8.50520058e-02,  1.83707557e-01,\n",
       "         3.42267431e-03,  6.23142242e-02,  2.45862186e-02,\n",
       "         1.04779858e-02,  1.92518142e-01, -6.01849649e-02,\n",
       "        -2.42011961e-02, -9.89023964e-03,  1.08424248e-01,\n",
       "         2.27147236e-01, -2.18370405e-02,  1.48743741e-02],\n",
       "       [ 1.17944239e-01, -1.29428699e-03,  1.90018579e-01,\n",
       "        -1.08020859e-01, -1.08155770e-01, -1.17656745e-01,\n",
       "        -3.81580602e-01, -4.75837170e-01,  1.17667093e-02,\n",
       "         3.69224811e-02, -6.50159609e-02, -4.33419535e-02,\n",
       "        -4.83229043e-03, -1.83607112e-01, -2.73081045e-01,\n",
       "        -7.19894627e-03,  8.86979542e-02,  2.78644042e-01,\n",
       "         4.55420890e-02,  1.28050741e-02,  3.74572621e-02,\n",
       "         1.73756001e-02, -3.84339616e-01,  1.59971116e-01,\n",
       "        -5.08559341e-02,  1.03147082e-01,  2.23647533e-01,\n",
       "        -8.67256783e-02,  2.60502991e-02,  3.00956263e-01],\n",
       "       [ 3.17473426e-02, -8.76859380e-03, -1.19958583e-01,\n",
       "         1.69778258e-01,  3.12988429e-02,  1.55094415e-01,\n",
       "         5.42166408e-01, -4.18618381e-01,  1.57407208e-02,\n",
       "         6.03770636e-02, -3.45542910e-02, -6.44197489e-04,\n",
       "         7.24288131e-02, -7.14080650e-02, -2.56359326e-01,\n",
       "         2.18414500e-01,  2.75990621e-01, -1.47478460e-01,\n",
       "         4.27362377e-04,  1.62083372e-01,  5.58204499e-02,\n",
       "        -1.91235614e-02, -2.91263217e-01, -3.00580015e-02,\n",
       "        -3.55267364e-02, -6.32277773e-02, -1.21370899e-01,\n",
       "         2.42054242e-01, -1.88891402e-03, -2.01562166e-01],\n",
       "       [-2.25623476e-01,  5.58087903e-03, -1.03548816e-01,\n",
       "         2.42822586e-01,  5.27453621e-02, -4.89523618e-02,\n",
       "        -5.66316486e-01, -1.83215913e-01, -5.27879596e-03,\n",
       "        -7.32955271e-02,  2.38525578e-02,  3.39160906e-02,\n",
       "         2.51843980e-02,  7.16753622e-02, -1.15449463e-01,\n",
       "        -1.28207326e-01, -6.54664623e-02, -3.72868765e-01,\n",
       "        -2.80155293e-02, -1.04366928e-01, -7.72958252e-02,\n",
       "         8.40557133e-03, -5.27144351e-02,  3.86233336e-04,\n",
       "         1.76639892e-01, -8.90366835e-02, -1.90733062e-01,\n",
       "         4.60090219e-01, -2.94300318e-02, -1.59324397e-01],\n",
       "       [-2.43287803e-01,  2.17032579e-02, -6.04577383e-02,\n",
       "         1.03142068e-01, -1.42794835e-01, -3.10745955e-01,\n",
       "         1.34629157e-01, -2.17128906e-01, -4.20029607e-03,\n",
       "        -1.65761190e-01,  3.97516418e-02, -4.53238764e-02,\n",
       "        -1.49153897e-02,  1.21401539e-01, -9.25571882e-02,\n",
       "         2.22521865e-01, -2.86187494e-01,  3.42513914e-01,\n",
       "         3.94297097e-04, -1.38205083e-01, -5.70285011e-02,\n",
       "         3.70469590e-02,  5.60478074e-02, -1.10019190e-01,\n",
       "         2.55643995e-01,  2.86877056e-01, -4.74974354e-01,\n",
       "        -1.67501187e-01, -1.21775750e-02,  1.63772251e-03],\n",
       "       [-2.97294327e-03,  3.31107956e-03,  3.82351696e-01,\n",
       "        -4.19610465e-01,  2.46263501e-02, -2.89214190e-01,\n",
       "         8.83425686e-02, -1.02429229e-01,  2.27316088e-02,\n",
       "         7.32110480e-02,  3.13112389e-01,  1.31844003e-02,\n",
       "         6.97069417e-02,  4.37476358e-01,  1.41646367e-01,\n",
       "        -1.17315278e-01, -4.66013820e-02,  1.20325606e-01,\n",
       "        -3.40161864e-02,  8.50823407e-02,  6.46258748e-02,\n",
       "        -9.76951491e-03, -1.54766637e-01, -2.50414254e-02,\n",
       "        -1.31236810e-01, -2.37497287e-01, -1.00546105e-01,\n",
       "         2.73015837e-01,  1.97738608e-02, -1.68647543e-01],\n",
       "       [-2.48859164e-01,  9.21394051e-03,  9.86371585e-02,\n",
       "        -9.58087625e-03, -4.73248082e-02,  3.60756898e-01,\n",
       "         3.11710076e-02, -2.41597715e-02, -2.26003383e-04,\n",
       "        -7.72983908e-02,  1.06972451e-01,  7.14044774e-02,\n",
       "         1.10299201e-01,  4.71478834e-01, -1.00317541e-01,\n",
       "        -1.67855533e-01,  3.27735094e-01,  5.88415388e-02,\n",
       "         2.43586923e-02,  1.00509691e-01, -4.25325279e-02,\n",
       "        -3.21698407e-02,  4.33236125e-02,  1.01141998e-01,\n",
       "         4.91955998e-01,  2.22837176e-01,  2.36867898e-01,\n",
       "        -1.12012217e-01,  2.25229183e-02,  4.06484510e-02],\n",
       "       [ 3.79298706e-02,  9.25182591e-04, -2.21130052e-01,\n",
       "        -2.42447125e-02,  6.88305672e-02, -2.70373844e-01,\n",
       "         1.72010696e-01, -2.47539977e-01,  3.45594973e-03,\n",
       "         1.21999922e-01, -1.15407049e-01,  5.40394002e-02,\n",
       "         7.42318033e-02, -2.01218319e-01,  8.53170331e-02,\n",
       "        -7.77631334e-01,  6.39769199e-02,  7.46805475e-02,\n",
       "         1.50104684e-02,  1.95158510e-02, -3.18953993e-02,\n",
       "         6.11183097e-03,  1.26446853e-01, -2.58251656e-02,\n",
       "         9.52384450e-02,  9.62159260e-02,  2.50636845e-03,\n",
       "        -8.57220378e-02,  2.99533589e-02, -1.91522071e-01],\n",
       "       [-1.87351984e-01,  1.51422333e-02,  1.26983963e-01,\n",
       "        -1.26586042e-01, -5.98736219e-03,  9.49164558e-02,\n",
       "         2.27726269e-01, -3.84728491e-03,  1.46641467e-02,\n",
       "        -2.10443409e-01,  1.22346168e-01, -1.20869034e-02,\n",
       "         3.61946030e-02, -1.89670737e-01, -7.99091284e-02,\n",
       "        -8.72791999e-02, -5.63391635e-01, -1.91175362e-01,\n",
       "         5.06685468e-02,  2.58747444e-02, -1.38265838e-01,\n",
       "         2.18701920e-02, -1.58675232e-01, -1.52980242e-01,\n",
       "        -1.90510285e-02,  3.39595290e-01,  4.18034299e-01,\n",
       "         2.10996508e-01,  1.07860828e-02, -1.58023738e-02],\n",
       "       [ 3.82376813e-01,  5.83670867e-04,  1.59930988e-02,\n",
       "         2.87256810e-01,  1.22766520e-02, -4.19118944e-02,\n",
       "         2.47918138e-02,  7.41961475e-02, -2.84893538e-03,\n",
       "         4.42574409e-01, -3.87776914e-02,  2.43193750e-02,\n",
       "        -1.21273160e-01,  2.23529696e-01,  1.93079412e-01,\n",
       "        -2.61334234e-02, -1.51842508e-01, -1.28636748e-02,\n",
       "         3.82662177e-02,  1.78312605e-01,  1.47731759e-01,\n",
       "        -8.18418032e-03, -7.16826882e-02,  1.66344469e-02,\n",
       "         1.09445558e-01,  4.42236372e-01, -7.09928126e-02,\n",
       "         3.10932214e-01,  1.40697177e-02,  2.62909634e-01],\n",
       "       [ 4.28849453e-02, -3.65772653e-03,  1.93262361e-01,\n",
       "        -7.30417195e-02, -6.84726783e-02, -8.36485605e-02,\n",
       "         1.28396421e-02,  1.96074259e-01, -2.33982156e-02,\n",
       "        -5.00290846e-02, -1.52396580e-01,  1.40872837e-02,\n",
       "        -1.56070340e-01, -3.23975381e-01,  1.36319195e-01,\n",
       "         2.68674981e-02,  8.94089399e-02,  8.73009627e-02,\n",
       "         3.48882247e-02,  1.16310371e-01,  1.15214712e-01,\n",
       "        -2.32522161e-02, -2.40008356e-01, -4.11029954e-01,\n",
       "         6.14349571e-01, -2.59709844e-01, -1.88439709e-03,\n",
       "         1.16965024e-01, -2.31796090e-02,  1.57630251e-02],\n",
       "       [ 1.19385204e-01,  1.16998848e-03, -2.37931999e-01,\n",
       "        -4.95258306e-01, -2.70289712e-02,  8.54404669e-02,\n",
       "         2.35581672e-02,  2.30818698e-01, -1.12176210e-02,\n",
       "        -2.15031412e-01, -4.87478370e-03, -4.35329540e-02,\n",
       "         9.73013120e-03, -1.90739589e-01,  1.97326416e-02,\n",
       "        -5.71271627e-03,  1.11040734e-01,  1.51808056e-02,\n",
       "         2.52974156e-02, -9.18279080e-02,  4.17164909e-02,\n",
       "         8.79547153e-04, -1.53310303e-01,  4.95490631e-01,\n",
       "         1.41449821e-01,  2.58706043e-01, -2.91376320e-01,\n",
       "         2.68519589e-01,  1.27483813e-02, -1.78263603e-02],\n",
       "       [-3.15538127e-01,  2.69739379e-02,  7.78497118e-02,\n",
       "        -8.47359524e-02,  6.56326466e-03,  2.08255529e-01,\n",
       "        -1.59071538e-01,  1.36081962e-01,  4.00132523e-03,\n",
       "         3.86300323e-01,  2.18068908e-01,  8.44845508e-02,\n",
       "         3.84245056e-01, -3.24702425e-01, -3.85712799e-02,\n",
       "        -7.98955219e-03,  3.49606675e-02,  1.20186936e-01,\n",
       "         2.34494606e-02,  3.96747989e-01, -1.40149198e-01,\n",
       "        -2.00368314e-02,  7.01948774e-03, -1.38666844e-01,\n",
       "        -1.15311487e-01,  1.16023350e-01, -3.12329360e-01,\n",
       "        -2.41367679e-02,  1.94133730e-02,  4.95420987e-02],\n",
       "       [ 1.45564451e-01, -8.95198903e-03, -1.88959348e-01,\n",
       "         1.10165401e-01,  5.54754177e-03, -3.71549849e-02,\n",
       "         6.67745230e-02, -7.57469551e-02,  2.55631731e-02,\n",
       "         2.55221154e-01,  5.04672262e-01,  5.84803598e-02,\n",
       "         1.04830491e-01, -1.50717969e-01, -2.05129966e-02,\n",
       "         1.25152478e-01, -2.78627800e-01,  6.99933158e-02,\n",
       "         8.64174004e-02, -5.12395775e-02, -6.12281784e-02,\n",
       "         2.86083413e-03,  8.40033298e-02,  3.80342499e-01,\n",
       "         3.68446590e-01, -3.53075106e-01,  1.84140400e-01,\n",
       "        -5.35296310e-02, -6.29218706e-03, -1.60881006e-02],\n",
       "       [-2.85154761e-01, -1.59540462e-03, -2.39219544e-01,\n",
       "        -2.61699967e-01,  9.28648505e-03, -1.46377502e-02,\n",
       "         1.25078017e-02, -7.40831297e-03,  7.55794790e-03,\n",
       "         3.35311010e-01, -6.08033830e-01, -3.34882252e-02,\n",
       "         6.69712563e-03,  2.14797445e-01, -6.48247466e-02,\n",
       "         1.08817363e-01, -3.12168524e-01,  2.41564868e-02,\n",
       "        -7.84230937e-02,  2.03496829e-01, -4.13530994e-02,\n",
       "        -2.39049293e-02, -5.43405005e-02,  1.71352700e-01,\n",
       "         8.85990240e-02, -2.12805524e-01,  1.10285600e-01,\n",
       "        -5.66856631e-03,  3.53986094e-02, -1.19144935e-02],\n",
       "       [-2.47801475e-01,  1.90453412e-02,  3.89189886e-02,\n",
       "        -1.71871698e-01, -4.75878633e-03,  4.32288243e-02,\n",
       "         7.78470686e-02,  3.08453861e-02,  3.63940094e-03,\n",
       "         5.35129587e-01,  9.80274248e-02, -4.50934198e-02,\n",
       "        -2.91894126e-01, -6.81858561e-02, -7.03192880e-02,\n",
       "         2.91178192e-02,  1.75957989e-01, -7.30083096e-02,\n",
       "        -4.19476690e-02, -6.45699439e-01, -6.88472028e-02,\n",
       "         5.07741449e-02, -6.64379322e-02, -1.31201212e-01,\n",
       "         1.00927646e-02,  1.16034981e-01,  4.08798303e-02,\n",
       "         2.33143309e-02,  6.85235175e-02, -1.44783058e-02],\n",
       "       [ 1.39778910e-01, -2.65878065e-02,  1.78268451e-01,\n",
       "         6.37823540e-02, -3.45709393e-02, -5.53279193e-02,\n",
       "         5.56745995e-02,  6.32472213e-02,  3.52396759e-02,\n",
       "         3.81893066e-02, -2.65480530e-01, -1.95735816e-02,\n",
       "         7.97383288e-01,  1.20868818e-02,  4.07194308e-02,\n",
       "         6.32372790e-02, -9.75592191e-03, -1.63679396e-02,\n",
       "         4.08764670e-02, -4.32045769e-01,  9.99055518e-02,\n",
       "        -2.49059111e-02,  5.37753227e-03, -2.98398220e-02,\n",
       "         7.68890545e-02,  7.38326557e-03,  5.06420769e-02,\n",
       "         7.77096706e-02, -4.39621992e-02,  2.53690990e-02],\n",
       "       [-3.45720746e-01,  2.47531399e-02, -3.03656678e-02,\n",
       "         5.41653374e-02, -1.34554724e-02,  2.83935272e-02,\n",
       "        -7.37123349e-03, -7.39827401e-03, -2.82335460e-03,\n",
       "         4.53564227e-03,  7.09165563e-02, -3.42152507e-02,\n",
       "        -2.38899123e-02, -7.70090580e-02,  9.17948445e-03,\n",
       "        -4.73227022e-02, -6.11783267e-02,  2.05628713e-02,\n",
       "         2.13191640e-01,  1.43186267e-04,  8.86196730e-01,\n",
       "         4.89163582e-02,  7.05237727e-02,  8.36840254e-02,\n",
       "        -7.07099434e-02,  4.08903369e-03,  4.73755105e-02,\n",
       "         5.48123217e-03, -5.51987050e-02, -1.38052990e-02],\n",
       "       [ 1.60252813e-03,  6.77833316e-03,  6.92566350e-04,\n",
       "         1.62109954e-02,  4.94493540e-02, -4.42010556e-03,\n",
       "         3.98755677e-03,  2.24329183e-02,  7.10443026e-02,\n",
       "        -4.43645224e-02, -7.16638950e-02,  3.09932459e-02,\n",
       "        -1.76693533e-02,  6.15416248e-02, -2.43550728e-03,\n",
       "         6.38204343e-03,  9.56038317e-03, -1.83471018e-02,\n",
       "         7.28849106e-01, -1.97510565e-02, -1.20746203e-01,\n",
       "         7.59482143e-02, -3.87374759e-03, -2.80906416e-02,\n",
       "        -3.59258028e-02, -7.83126446e-02, -6.71188903e-02,\n",
       "         1.53768096e-02,  6.42651988e-01,  3.29961947e-02],\n",
       "       [-3.91596759e-02, -2.69728643e-01, -3.62401899e-02,\n",
       "        -3.34016902e-02,  1.16237494e-02, -1.89203677e-02,\n",
       "        -3.69037098e-03,  2.80763224e-03, -2.75954782e-02,\n",
       "         4.26198675e-02, -1.91601835e-02, -2.32458471e-02,\n",
       "        -7.19248130e-02,  5.01977093e-02,  6.87751396e-03,\n",
       "        -1.25295007e-02,  1.52248591e-02,  2.04339726e-02,\n",
       "         5.27230362e-01, -3.92497919e-02, -1.34403020e-01,\n",
       "        -5.38938883e-01, -4.51656253e-02, -1.98615351e-02,\n",
       "        -5.69964807e-02,  1.04988121e-02, -1.11502680e-02,\n",
       "        -7.10278236e-03, -5.62627810e-01, -1.36942631e-02],\n",
       "       [ 4.55976600e-02,  2.94058435e-01,  2.39607834e-02,\n",
       "        -4.46735344e-02, -2.96015561e-03,  4.22417608e-02,\n",
       "         8.13531426e-03, -4.95189813e-03,  3.86711641e-02,\n",
       "         3.57391608e-02, -7.06668254e-02,  7.90294043e-02,\n",
       "        -1.48328193e-02,  4.97146356e-02,  6.36194669e-03,\n",
       "        -4.95201517e-03,  2.18293087e-02, -5.03829246e-03,\n",
       "         3.22134498e-01,  1.96662230e-02, -1.21961315e-01,\n",
       "         7.21831611e-01, -6.91383698e-03,  1.63558658e-04,\n",
       "        -6.67299695e-03, -2.71328239e-02, -1.91449683e-02,\n",
       "        -5.15915709e-03, -4.97716829e-01, -2.66382044e-02],\n",
       "       [ 2.98538818e-02,  8.53154298e-01, -1.84432426e-03,\n",
       "         1.46987134e-03, -1.01657332e-02, -8.63637778e-03,\n",
       "         5.85025422e-03, -1.44629921e-02, -3.75091756e-01,\n",
       "         7.55828064e-04, -7.14481523e-03, -8.32143698e-03,\n",
       "         9.87722660e-03,  4.66027543e-03, -7.04885273e-03,\n",
       "         3.17155162e-03, -7.79704377e-03, -5.76464525e-03,\n",
       "         5.84559042e-02, -2.88743903e-02, -9.37551783e-03,\n",
       "        -3.53080766e-01,  1.09097613e-03,  6.22599308e-03,\n",
       "        -1.37306424e-02, -1.79360282e-02,  1.09513149e-02,\n",
       "         4.81600676e-04,  4.43097115e-03, -5.20792057e-03],\n",
       "       [-9.12505750e-03, -3.27027567e-01,  6.92035780e-03,\n",
       "        -2.29708550e-03, -1.16104258e-02, -1.66065645e-02,\n",
       "         1.35961529e-02, -7.90815730e-03, -9.20359318e-01,\n",
       "         1.81017419e-02,  9.95838960e-03,  7.92488320e-03,\n",
       "         4.15703849e-02,  1.31288210e-02, -2.65063199e-03,\n",
       "         7.10342645e-03, -2.51461546e-03, -9.16244683e-03,\n",
       "         3.39083827e-02,  5.67287734e-03, -1.22759858e-02,\n",
       "         1.96587190e-01, -1.11873033e-02,  1.00569931e-02,\n",
       "        -7.73671857e-03, -3.49294773e-03,  1.62785613e-02,\n",
       "         1.90086919e-03,  4.54860052e-02, -6.65569442e-03]])"
      ]
     },
     "execution_count": 41,
     "metadata": {},
     "output_type": "execute_result"
    }
   ],
   "source": [
    "pca.components_"
   ]
  },
  {
   "cell_type": "code",
   "execution_count": 44,
   "metadata": {},
   "outputs": [
    {
     "data": {
      "text/plain": [
       "array([0.18434389, 0.08397461, 0.07577384, 0.0598966 , 0.05352258,\n",
       "       0.04960289, 0.04084368, 0.03987486, 0.03821162, 0.0361561 ,\n",
       "       0.03370127, 0.03141122, 0.0278043 , 0.02688633, 0.02512869,\n",
       "       0.0233177 , 0.02221116, 0.02136568, 0.01889989, 0.01851916,\n",
       "       0.0171587 , 0.01583348, 0.0143772 , 0.01235857, 0.00936647,\n",
       "       0.00624552, 0.00569741, 0.00444432, 0.00164894, 0.00142333])"
      ]
     },
     "execution_count": 44,
     "metadata": {},
     "output_type": "execute_result"
    }
   ],
   "source": [
    "varianza = pca.explained_variance_ratio_\n",
    "varianza"
   ]
  },
  {
   "cell_type": "code",
   "execution_count": 47,
   "metadata": {},
   "outputs": [
    {
     "data": {
      "text/plain": [
       "array([0.18434389, 0.2683185 , 0.34409234, 0.40398894, 0.45751152,\n",
       "       0.50711441, 0.54795809, 0.58783294, 0.62604457, 0.66220067,\n",
       "       0.69590193, 0.72731315, 0.75511745, 0.78200378, 0.80713247,\n",
       "       0.83045018, 0.85266133, 0.87402701, 0.8929269 , 0.91144606,\n",
       "       0.92860476, 0.94443824, 0.95881544, 0.97117401, 0.98054048,\n",
       "       0.986786  , 0.99248341, 0.99692773, 0.99857667, 1.        ])"
      ]
     },
     "execution_count": 47,
     "metadata": {},
     "output_type": "execute_result"
    }
   ],
   "source": [
    "np.cumsum(varianza)"
   ]
  },
  {
   "cell_type": "markdown",
   "metadata": {},
   "source": []
  },
  {
   "cell_type": "code",
   "execution_count": null,
   "metadata": {},
   "outputs": [],
   "source": []
  },
  {
   "cell_type": "code",
   "execution_count": null,
   "metadata": {},
   "outputs": [],
   "source": []
  }
 ],
 "metadata": {
  "kernelspec": {
   "display_name": "Python 3",
   "language": "python",
   "name": "python3"
  },
  "language_info": {
   "codemirror_mode": {
    "name": "ipython",
    "version": 3
   },
   "file_extension": ".py",
   "mimetype": "text/x-python",
   "name": "python",
   "nbconvert_exporter": "python",
   "pygments_lexer": "ipython3",
   "version": "3.11.4"
  },
  "orig_nbformat": 4
 },
 "nbformat": 4,
 "nbformat_minor": 2
}
